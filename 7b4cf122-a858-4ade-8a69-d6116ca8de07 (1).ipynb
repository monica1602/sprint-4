{
 "cells": [
  {
   "cell_type": "markdown",
   "metadata": {},
   "source": [
    "\n",
    "\n",
    "Olá estudante!\n",
    "\n",
    "Me chamo Rafael Meirelles e irei revisar o seu projeto hoje e em eventuais futuras submissões até que ele cumpra todos os requisitos para o aceite.\n",
    "Conte comigo nessa jornada e não se preocupe se precisar ajustar alguns detalhes, é parte do processo e fundamental para que você exercite os conceitos que vem aprendendo e assim melhore a qualidade dos seus códigos e análises.\n",
    "\n",
    "**Peço que mantenha e não altereos comentários que eu fizer por aqui para que possamos nos localizar posteriormente, ok?**\n",
    "\n",
    "Mais uma coisa, vamos utilizar um código de cores para você entender os meus feedbacks no seu notebook. Funciona assim:\n",
    "\n",
    "\n",
    "<div class=\"alert alert-danger\">\n",
    "<strong>Vermelho</strong>\n",
    "\n",
    "Erro que precisa ser consertado, caso contrário, seu projeto não pode ser aceito\n",
    "\n",
    "</div>\n",
    "\n",
    "<div class=\"alert alert-warning\">\n",
    "<strong>Amarelo</strong>\n",
    "\n",
    "Alerta de um erro não crítco, mas que pode ser corrigido para melhoria geral no seu código/análise\n",
    "\n",
    "</div>\n",
    "\n",
    "<div class=\"alert alert-success\">\n",
    "<strong>Verde</strong>\n",
    "\n",
    "Elogios\n",
    "</div>\n",
    "\n",
    "<div class=\"alert alert-info\">\n",
    "<strong>Comentário do estudante</strong>\n",
    "\n",
    "Use uma caixa azul como essa para eventuais comentários que você gostaria de fazer para mim.\n",
    "</div>\n"
   ]
  },
  {
   "cell_type": "markdown",
   "metadata": {
    "id": "eAkbw7Ueuj8X"
   },
   "source": [
    "# Qual é o melhor plano?\n",
    "\n",
    "Você trabalha como analista para a empresa de telecomunicações Megaline. A empresa oferece aos clientes dois planos pré-pagos: Surf e Ultimate. O departamento comercial quer saber qual dos planos gera mais receita para ajustar o orçamento de publicidade.\n",
    "\n",
    "Você vai realizar uma análise preliminar dos planos com base em uma pequena seleção de clientes. Você terá dados de 500 clientes da Megaline: que clientes são, de onde eles são, qual plano usam e o número de chamadas e mensagens realizadas em 2018. Seu trabalho é analisar o comportamento dos clientes e determinar qual plano pré-pago gera mais receita."
   ]
  },
  {
   "cell_type": "markdown",
   "metadata": {
    "id": "Z_iOKMX_uj8a"
   },
   "source": [
    "[Fornecemos alguns comentários para guiar sua linha de raciocínio enquanto você conclui esse projeto. Entretanto, certifique-se de remover todos os comentários entre colchetes antes de enviar o projeto.]\n",
    "\n",
    "[Antes de mergulhar na análise dos seus dados, explique em suas palavras o propósito do projeto e as ações que planeja realizar.]\n",
    "\n",
    "[Tenha em mente que estudar, modificar e analisar dados é um processo iterativo. É normal retornar a etapas anteriores e corrigir/expandir algo para permitir as próximas etapas.]"
   ]
  },
  {
   "cell_type": "markdown",
   "metadata": {
    "id": "lnomf-3Xuj8b"
   },
   "source": [
    "## Inicialização"
   ]
  },
  {
   "cell_type": "code",
   "execution_count": 1,
   "metadata": {
    "id": "JdJusn5ouj8c"
   },
   "outputs": [],
   "source": [
    "# Carregando todas as bibliotecas\n",
    "import pandas as pd\n",
    "from matplotlib import pyplot as plt\n",
    "import numpy as np\n",
    "import seaborn as sns\n",
    "from math import factorial\n",
    "from scipy import stats as st\n",
    "import math as mt\n",
    "\n"
   ]
  },
  {
   "cell_type": "markdown",
   "metadata": {
    "id": "rzqsCrgquj8d"
   },
   "source": [
    "## Carregue os dados"
   ]
  },
  {
   "cell_type": "code",
   "execution_count": 2,
   "metadata": {
    "id": "HmzmQRXIuj8e"
   },
   "outputs": [],
   "source": [
    "# Carregue os arquivos de dados em diferentes DataFrames\n",
    "df_users = pd.read_csv('/datasets/megaline_users.csv')\n",
    "df_calls = pd.read_csv('/datasets/megaline_calls.csv')\n",
    "df_messages = pd.read_csv('/datasets/megaline_messages.csv')\n",
    "df_internet = pd.read_csv('/datasets/megaline_internet.csv')\n",
    "df_plans = pd.read_csv('/datasets/megaline_plans.csv')\n"
   ]
  },
  {
   "cell_type": "markdown",
   "metadata": {
    "id": "XQh-EeiIuj8e"
   },
   "source": [
    "## Prepare os dados"
   ]
  },
  {
   "cell_type": "markdown",
   "metadata": {
    "id": "RmibJmmzuj8e"
   },
   "source": [
    "[Os dados deste projeto estão divididos em várias tabelas. Explore cada uma para obter uma compreensão inicial dos dados. Faça correções em cada tabela, se necessário.]"
   ]
  },
  {
   "cell_type": "markdown",
   "metadata": {
    "id": "TlZUw_Cyuj8f"
   },
   "source": [
    "## Planos"
   ]
  },
  {
   "cell_type": "code",
   "execution_count": 3,
   "metadata": {},
   "outputs": [
    {
     "name": "stdout",
     "output_type": "stream",
     "text": [
      "<class 'pandas.core.frame.DataFrame'>\n",
      "RangeIndex: 2 entries, 0 to 1\n",
      "Data columns (total 8 columns):\n",
      " #   Column                 Non-Null Count  Dtype  \n",
      "---  ------                 --------------  -----  \n",
      " 0   messages_included      2 non-null      int64  \n",
      " 1   mb_per_month_included  2 non-null      int64  \n",
      " 2   minutes_included       2 non-null      int64  \n",
      " 3   usd_monthly_pay        2 non-null      int64  \n",
      " 4   usd_per_gb             2 non-null      int64  \n",
      " 5   usd_per_message        2 non-null      float64\n",
      " 6   usd_per_minute         2 non-null      float64\n",
      " 7   plan_name              2 non-null      object \n",
      "dtypes: float64(2), int64(5), object(1)\n",
      "memory usage: 256.0+ bytes\n"
     ]
    }
   ],
   "source": [
    "df_plans.info()"
   ]
  },
  {
   "cell_type": "code",
   "execution_count": 4,
   "metadata": {},
   "outputs": [
    {
     "name": "stdout",
     "output_type": "stream",
     "text": [
      "   messages_included  mb_per_month_included  minutes_included  \\\n",
      "0                 50                  15360               500   \n",
      "1               1000                  30720              3000   \n",
      "\n",
      "   usd_monthly_pay  usd_per_gb  usd_per_message  usd_per_minute plan_name  \n",
      "0               20          10             0.03            0.03      surf  \n",
      "1               70           7             0.01            0.01  ultimate  \n"
     ]
    }
   ],
   "source": [
    "print(df_plans.head())"
   ]
  },
  {
   "cell_type": "markdown",
   "metadata": {
    "id": "P8hzr-lquj8f"
   },
   "source": [
    "[Descreva o que você vê e observa nas informações gerais e na amostra de dados impressa para a parte dos dados acima. Existem problemas (tipos de dados inadequados, dados ausentes, etc.) que precisam de mais investigação e alterações? Como isso pode ser corrigido?]\n",
    "- não existe valores ausentes\n",
    "- os tipos de dados estão corretos\n",
    "- verificar se existe valores duplicados\n",
    "\n",
    "\n",
    "\n",
    "\n"
   ]
  },
  {
   "cell_type": "markdown",
   "metadata": {
    "id": "KXtaxmKsuj8f"
   },
   "source": [
    "## Corrija os dados"
   ]
  },
  {
   "cell_type": "markdown",
   "metadata": {
    "id": "9BWuM80Buj8f"
   },
   "source": [
    "[Corrija problemas óbvios com os dados conforme as observações iniciais.]"
   ]
  },
  {
   "cell_type": "code",
   "execution_count": 5,
   "metadata": {
    "scrolled": true
   },
   "outputs": [
    {
     "name": "stdout",
     "output_type": "stream",
     "text": [
      "Empty DataFrame\n",
      "Columns: [messages_included, mb_per_month_included, minutes_included, usd_monthly_pay, usd_per_gb, usd_per_message, usd_per_minute, plan_name]\n",
      "Index: []\n"
     ]
    }
   ],
   "source": [
    "#verificar se tem dados duplicados na tabela plans\n",
    "\n",
    "df_plans_duplicated = df_plans[df_plans.duplicated()]\n",
    "print(df_plans_duplicated)"
   ]
  },
  {
   "cell_type": "markdown",
   "metadata": {},
   "source": [
    "- não existe linhas duplicadas"
   ]
  },
  {
   "cell_type": "markdown",
   "metadata": {
    "id": "kLcdKu6Duj8g"
   },
   "source": [
    "## Enriqueça os dados"
   ]
  },
  {
   "cell_type": "markdown",
   "metadata": {
    "id": "x1L6F_gmuj8g"
   },
   "source": [
    "[Inclua fatores adicionais aos dados se você acredita que eles podem ser úteis.]"
   ]
  },
  {
   "cell_type": "markdown",
   "metadata": {
    "id": "6j4XA9_ruj8g"
   },
   "source": [
    "- como só existe dois planos, não acho necessário adicionar mais dados"
   ]
  },
  {
   "cell_type": "markdown",
   "metadata": {},
   "source": [
    "<div class=\"alert alert-success\">\n",
    "<strong>Comentário do revisor v1</strong>\n",
    "\n",
    "Bom trabalho com o df de planos!\n",
    "</div>\n",
    "\n"
   ]
  },
  {
   "cell_type": "markdown",
   "metadata": {
    "id": "YJg2O9qjuj8g"
   },
   "source": [
    "## Usuários"
   ]
  },
  {
   "cell_type": "code",
   "execution_count": 6,
   "metadata": {
    "id": "7JzxwD2juj8g"
   },
   "outputs": [
    {
     "name": "stdout",
     "output_type": "stream",
     "text": [
      "<class 'pandas.core.frame.DataFrame'>\n",
      "RangeIndex: 500 entries, 0 to 499\n",
      "Data columns (total 8 columns):\n",
      " #   Column      Non-Null Count  Dtype \n",
      "---  ------      --------------  ----- \n",
      " 0   user_id     500 non-null    int64 \n",
      " 1   first_name  500 non-null    object\n",
      " 2   last_name   500 non-null    object\n",
      " 3   age         500 non-null    int64 \n",
      " 4   city        500 non-null    object\n",
      " 5   reg_date    500 non-null    object\n",
      " 6   plan        500 non-null    object\n",
      " 7   churn_date  34 non-null     object\n",
      "dtypes: int64(2), object(6)\n",
      "memory usage: 31.4+ KB\n"
     ]
    }
   ],
   "source": [
    "# Imprima as informações gerais/resumidas sobre o DataFrame dos usuários\n",
    "\n",
    "df_users.info()"
   ]
  },
  {
   "cell_type": "code",
   "execution_count": 7,
   "metadata": {
    "id": "5KZ8XmD8uj8g"
   },
   "outputs": [
    {
     "name": "stdout",
     "output_type": "stream",
     "text": [
      "   user_id first_name  last_name  age                                   city  \\\n",
      "0     1000   Anamaria      Bauer   45  Atlanta-Sandy Springs-Roswell, GA MSA   \n",
      "1     1001     Mickey  Wilkerson   28        Seattle-Tacoma-Bellevue, WA MSA   \n",
      "2     1002     Carlee    Hoffman   36   Las Vegas-Henderson-Paradise, NV MSA   \n",
      "3     1003   Reynaldo    Jenkins   52                          Tulsa, OK MSA   \n",
      "4     1004    Leonila   Thompson   40        Seattle-Tacoma-Bellevue, WA MSA   \n",
      "\n",
      "     reg_date      plan churn_date  \n",
      "0  2018-12-24  ultimate        NaN  \n",
      "1  2018-08-13      surf        NaN  \n",
      "2  2018-10-21      surf        NaN  \n",
      "3  2018-01-28      surf        NaN  \n",
      "4  2018-05-23      surf        NaN  \n"
     ]
    }
   ],
   "source": [
    "# Imprima uma amostra de dados dos usuários\n",
    "\n",
    "print(df_users.head())"
   ]
  },
  {
   "cell_type": "markdown",
   "metadata": {
    "id": "XGCgkfLvuj8h"
   },
   "source": [
    "[Descreva o que você vê e observa nas informações gerais e na amostra de dados impressa para a parte dos dados acima. Existem problemas (tipos de dados inadequados, dados ausentes, etc.) que precisam de mais investigação e alterações? Como isso pode ser corrigido?]\n",
    "- existe valores ausentes na coluna churn_date\n",
    "- como os dados ausentes significam, teoricamente, que o usuário ainda está usando o plano, não tem necessidade de preencher esses valores ausentes\n",
    "- o que pode ser feito, é substituir o valor Nan por um valor mais específico, como used\n",
    "- os tipos de dados estão corretos\n",
    "- verificar se existe valores duplicados\n"
   ]
  },
  {
   "cell_type": "markdown",
   "metadata": {
    "id": "ppiEfe3luj8i"
   },
   "source": [
    "### Corrija os dados"
   ]
  },
  {
   "cell_type": "markdown",
   "metadata": {
    "id": "os4Gubp_uj8j"
   },
   "source": [
    "[Corrija problemas óbvios com os dados conforme as observações iniciais.]"
   ]
  },
  {
   "cell_type": "code",
   "execution_count": 8,
   "metadata": {
    "id": "Oa1XFooouj8j"
   },
   "outputs": [
    {
     "name": "stdout",
     "output_type": "stream",
     "text": [
      "Empty DataFrame\n",
      "Columns: [user_id, first_name, last_name, age, city, reg_date, plan, churn_date]\n",
      "Index: []\n"
     ]
    }
   ],
   "source": [
    "#verificar se tem dados duplicados na tabela users\n",
    "\n",
    "df_users_duplicated = df_users[df_users.duplicated()]\n",
    "print(df_users_duplicated)"
   ]
  },
  {
   "cell_type": "markdown",
   "metadata": {},
   "source": [
    "- não existe valores duplicados"
   ]
  },
  {
   "cell_type": "code",
   "execution_count": 9,
   "metadata": {},
   "outputs": [
    {
     "name": "stdout",
     "output_type": "stream",
     "text": [
      "     user_id    reg_date  churn_date\n",
      "6       1006  2018-11-27  2018-12-18\n",
      "12      1012  2018-06-28  2018-11-16\n",
      "22      1022  2018-04-20  2018-09-07\n",
      "40      1040  2018-12-23  2018-12-30\n",
      "50      1050  2018-03-20  2018-10-07\n",
      "54      1054  2018-04-21  2018-12-31\n",
      "67      1067  2018-09-24  2018-11-24\n",
      "83      1083  2018-10-26  2018-12-18\n",
      "84      1084  2018-06-04  2018-11-11\n",
      "94      1094  2018-10-30  2018-12-12\n",
      "106     1106  2018-05-10  2018-11-14\n",
      "129     1129  2018-11-10  2018-12-27\n",
      "172     1172  2018-03-30  2018-11-29\n",
      "180     1180  2018-12-01  2018-12-22\n",
      "186     1186  2018-12-22  2018-12-31\n",
      "191     1191  2018-01-21  2018-11-30\n",
      "220     1220  2018-04-22  2018-10-13\n",
      "246     1246  2018-01-09  2018-07-31\n",
      "269     1269  2018-09-13  2018-12-15\n",
      "281     1281  2018-07-23  2018-11-14\n",
      "296     1296  2018-10-20  2018-12-18\n",
      "298     1298  2018-09-21  2018-12-19\n",
      "300     1300  2018-10-21  2018-12-19\n",
      "315     1315  2018-04-26  2018-10-03\n",
      "358     1358  2018-04-26  2018-10-22\n",
      "363     1363  2018-01-05  2018-08-16\n",
      "402     1402  2018-06-11  2018-12-26\n",
      "414     1414  2018-03-03  2018-09-01\n",
      "416     1416  2018-10-03  2018-11-21\n",
      "441     1441  2018-03-08  2018-08-19\n",
      "451     1451  2018-02-15  2018-12-10\n",
      "466     1466  2018-01-26  2018-09-17\n",
      "467     1467  2018-01-31  2018-11-18\n",
      "491     1491  2018-04-27  2018-09-18\n"
     ]
    }
   ],
   "source": [
    "#linhas com valores na coluna \n",
    "df_users_churn = df_users[~df_users['churn_date'].isna()]\n",
    "print(df_users_churn[['user_id', 'reg_date', 'churn_date']])"
   ]
  },
  {
   "cell_type": "markdown",
   "metadata": {
    "id": "H3gpde3Juj8j"
   },
   "source": [
    "### Enriqueça os dados"
   ]
  },
  {
   "cell_type": "markdown",
   "metadata": {
    "id": "HOZyfII6uj8j"
   },
   "source": [
    "[Inclua fatores adicionais aos dados se você acredita que eles podem ser úteis.]"
   ]
  },
  {
   "cell_type": "markdown",
   "metadata": {
    "id": "4vuUjT2juj8j"
   },
   "source": [
    "- como esse são os dados mais básicos, em que os dados são apenas dados pessoais, não acredito que é necessário adicionar dados"
   ]
  },
  {
   "cell_type": "markdown",
   "metadata": {},
   "source": [
    "<div class=\"alert alert-success\">\n",
    "<strong>Comentário do revisor v1</strong>\n",
    "\n",
    "PErfeito o trabalho e a interpretação dos dados de usuários!\n",
    "</div>\n",
    "\n"
   ]
  },
  {
   "cell_type": "markdown",
   "metadata": {
    "id": "f4uSIMuuuj8j"
   },
   "source": [
    "## Chamadas"
   ]
  },
  {
   "cell_type": "code",
   "execution_count": 10,
   "metadata": {
    "id": "hkY01fJnuj8j"
   },
   "outputs": [
    {
     "name": "stdout",
     "output_type": "stream",
     "text": [
      "<class 'pandas.core.frame.DataFrame'>\n",
      "RangeIndex: 137735 entries, 0 to 137734\n",
      "Data columns (total 4 columns):\n",
      " #   Column     Non-Null Count   Dtype  \n",
      "---  ------     --------------   -----  \n",
      " 0   id         137735 non-null  object \n",
      " 1   user_id    137735 non-null  int64  \n",
      " 2   call_date  137735 non-null  object \n",
      " 3   duration   137735 non-null  float64\n",
      "dtypes: float64(1), int64(1), object(2)\n",
      "memory usage: 4.2+ MB\n"
     ]
    }
   ],
   "source": [
    "# Imprima as informações gerais/resumidas sobre o DataFrame das chamadas\n",
    "\n",
    "df_calls.info()"
   ]
  },
  {
   "cell_type": "code",
   "execution_count": 11,
   "metadata": {
    "id": "wdBwJG5Yuj8k"
   },
   "outputs": [
    {
     "name": "stdout",
     "output_type": "stream",
     "text": [
      "         id  user_id   call_date  duration\n",
      "0   1000_93     1000  2018-12-27      8.52\n",
      "1  1000_145     1000  2018-12-27     13.66\n",
      "2  1000_247     1000  2018-12-27     14.48\n",
      "3  1000_309     1000  2018-12-28      5.76\n",
      "4  1000_380     1000  2018-12-30      4.22\n"
     ]
    }
   ],
   "source": [
    "# Imprima uma amostra de dados das chamadas\n",
    "\n",
    "print(df_calls.head())\n"
   ]
  },
  {
   "cell_type": "markdown",
   "metadata": {
    "id": "Y8An85-Tuj8k"
   },
   "source": [
    "[Descreva o que você vê e observa nas informações gerais e na amostra de dados impressa para a parte dos dados acima. Existem problemas (tipos de dados inadequados, dados ausentes, etc.) que precisam de mais investigação e alterações? Como isso pode ser corrigido?]\n",
    "- não existe valores ausentes\n",
    "- verificar se existe valores duplicados\n",
    "- já olhando para as outras colunas, é possivel perceber que existe uma coluna de nome id que está em mais de uma coluna, porém os dados são diferentes\n",
    "- então, seria interessante mudar o nome da coluna, para não ficar confuso e evitar erros\n",
    "- mudar o tipo de dado da coluna call_date de string para datetime\n"
   ]
  },
  {
   "cell_type": "markdown",
   "metadata": {
    "id": "x5a99U4xuj8k"
   },
   "source": [
    "### Corrija os dados"
   ]
  },
  {
   "cell_type": "markdown",
   "metadata": {
    "id": "MQqkU83Xuj8k"
   },
   "source": [
    "[Corrija problemas óbvios com os dados conforme as observações iniciais.]"
   ]
  },
  {
   "cell_type": "code",
   "execution_count": 12,
   "metadata": {
    "id": "lBjdw0Bnuj8l"
   },
   "outputs": [
    {
     "name": "stdout",
     "output_type": "stream",
     "text": [
      "Empty DataFrame\n",
      "Columns: [id, user_id, call_date, duration]\n",
      "Index: []\n"
     ]
    }
   ],
   "source": [
    "#verificar se tem dados duplicados na tabela calls\n",
    "\n",
    "df_calls_duplicated = df_calls[df_calls.duplicated()]\n",
    "print(df_calls_duplicated)"
   ]
  },
  {
   "cell_type": "markdown",
   "metadata": {},
   "source": [
    "- não existe valores duplicados"
   ]
  },
  {
   "cell_type": "markdown",
   "metadata": {
    "id": "MFm5xyh4uj8l"
   },
   "source": [
    "### Enriqueça os dados"
   ]
  },
  {
   "cell_type": "markdown",
   "metadata": {
    "id": "Udv2togruj8l"
   },
   "source": [
    "[Inclua fatores adicionais aos dados se você acredita que eles podem ser úteis.]"
   ]
  },
  {
   "cell_type": "code",
   "execution_count": 13,
   "metadata": {},
   "outputs": [
    {
     "name": "stdout",
     "output_type": "stream",
     "text": [
      "   id_calls  user_id   call_date  duration\n",
      "0   1000_93     1000  2018-12-27      8.52\n",
      "1  1000_145     1000  2018-12-27     13.66\n",
      "2  1000_247     1000  2018-12-27     14.48\n",
      "3  1000_309     1000  2018-12-28      5.76\n",
      "4  1000_380     1000  2018-12-30      4.22\n"
     ]
    }
   ],
   "source": [
    "#substituir o nome da coluna id\n",
    "\n",
    "df_calls = df_calls.rename(columns={'id' : 'id_calls'})\n",
    "\n",
    "print(df_calls.head())"
   ]
  },
  {
   "cell_type": "code",
   "execution_count": 14,
   "metadata": {},
   "outputs": [],
   "source": [
    "#mudar o tipo de dado da coluna\n",
    "df_calls['call_date'] = pd.to_datetime(df_calls['call_date'])\n"
   ]
  },
  {
   "cell_type": "markdown",
   "metadata": {},
   "source": [
    "<div class=\"alert alert-success\">\n",
    "<strong>Comentário do revisor v1</strong>\n",
    "\n",
    "Perfeita a percepção e execução com o df de chamadas\n",
    "</div>\n",
    "\n"
   ]
  },
  {
   "cell_type": "markdown",
   "metadata": {
    "id": "qLz4FkyRuj8l"
   },
   "source": [
    "## Mensagens"
   ]
  },
  {
   "cell_type": "code",
   "execution_count": 15,
   "metadata": {
    "id": "nFA9DFkCuj8l"
   },
   "outputs": [
    {
     "name": "stdout",
     "output_type": "stream",
     "text": [
      "<class 'pandas.core.frame.DataFrame'>\n",
      "RangeIndex: 76051 entries, 0 to 76050\n",
      "Data columns (total 3 columns):\n",
      " #   Column        Non-Null Count  Dtype \n",
      "---  ------        --------------  ----- \n",
      " 0   id            76051 non-null  object\n",
      " 1   user_id       76051 non-null  int64 \n",
      " 2   message_date  76051 non-null  object\n",
      "dtypes: int64(1), object(2)\n",
      "memory usage: 1.7+ MB\n"
     ]
    }
   ],
   "source": [
    "# Imprima as informações gerais/resumidas sobre o DataFrame das mensagens\n",
    "df_messages.info()\n"
   ]
  },
  {
   "cell_type": "code",
   "execution_count": 16,
   "metadata": {
    "id": "ysEFBZWxuj8m"
   },
   "outputs": [
    {
     "name": "stdout",
     "output_type": "stream",
     "text": [
      "         id  user_id message_date\n",
      "0  1000_125     1000   2018-12-27\n",
      "1  1000_160     1000   2018-12-31\n",
      "2  1000_223     1000   2018-12-31\n",
      "3  1000_251     1000   2018-12-27\n",
      "4  1000_255     1000   2018-12-26\n"
     ]
    }
   ],
   "source": [
    "# Imprima uma amostra dos dados das mensagens\n",
    "\n",
    "print(df_messages.head())"
   ]
  },
  {
   "cell_type": "markdown",
   "metadata": {
    "id": "GUtt1TqCuj8m"
   },
   "source": [
    "[Descreva o que você vê e observa nas informações gerais e na amostra de dados impressa para a parte dos dados acima. Existem problemas (tipos de dados inadequados, dados ausentes, etc.) que precisam de mais investigação e alterações? Como isso pode ser corrigido?]\n",
    "- não existe valores ausentes\n",
    "- verificar se existe valores duplicados\n",
    "- já olhando para as outras colunas, é possivel perceber que existe uma coluna de nome id que está em mais de uma coluna, porém os dados são diferentes\n",
    "- então, seria interessante mudar o nome da coluna, para não ficar confuso e evitar erros\n",
    "- mudar o tipo de dado da coluna message_date de string para datetime"
   ]
  },
  {
   "cell_type": "markdown",
   "metadata": {
    "id": "tT8N_hc6uj8m"
   },
   "source": [
    "### Corrija os dados"
   ]
  },
  {
   "cell_type": "markdown",
   "metadata": {
    "id": "IgO0SzXKuj8m"
   },
   "source": [
    "[Corrija problemas óbvios com os dados conforme as observações iniciais.]"
   ]
  },
  {
   "cell_type": "code",
   "execution_count": 17,
   "metadata": {
    "id": "SpBqbQHCuj8m"
   },
   "outputs": [
    {
     "name": "stdout",
     "output_type": "stream",
     "text": [
      "Empty DataFrame\n",
      "Columns: [id, user_id, message_date]\n",
      "Index: []\n"
     ]
    }
   ],
   "source": [
    "#verificar se tem dados duplicados na tabela messages\n",
    "\n",
    "df_messages_duplicated = df_messages[df_messages.duplicated()]\n",
    "print(df_messages_duplicated)"
   ]
  },
  {
   "cell_type": "markdown",
   "metadata": {},
   "source": [
    "- não existe valores duplicados"
   ]
  },
  {
   "cell_type": "markdown",
   "metadata": {
    "id": "feV2Njo9uj8n"
   },
   "source": [
    "### Enriqueça os dados"
   ]
  },
  {
   "cell_type": "markdown",
   "metadata": {
    "id": "KA5XDEoZuj8n"
   },
   "source": [
    "[Inclua fatores adicionais aos dados se você acredita que eles podem ser úteis.]"
   ]
  },
  {
   "cell_type": "code",
   "execution_count": 18,
   "metadata": {
    "id": "SkuCXcLJuj8n"
   },
   "outputs": [
    {
     "name": "stdout",
     "output_type": "stream",
     "text": [
      "  id_messages  user_id message_date\n",
      "0    1000_125     1000   2018-12-27\n",
      "1    1000_160     1000   2018-12-31\n",
      "2    1000_223     1000   2018-12-31\n",
      "3    1000_251     1000   2018-12-27\n",
      "4    1000_255     1000   2018-12-26\n"
     ]
    }
   ],
   "source": [
    "#substituir o nome da coluna id\n",
    "\n",
    "df_messages = df_messages.rename(columns={'id' : 'id_messages'})\n",
    "\n",
    "print(df_messages.head())"
   ]
  },
  {
   "cell_type": "code",
   "execution_count": 19,
   "metadata": {},
   "outputs": [],
   "source": [
    "#mudar o tipo de dado da coluna\n",
    "df_messages['message_date'] = pd.to_datetime(df_messages['message_date'])"
   ]
  },
  {
   "cell_type": "markdown",
   "metadata": {},
   "source": [
    "<div class=\"alert alert-success\">\n",
    "<strong>Comentário do revisor v1</strong>\n",
    "\n",
    "Tudo certo com o df de mensagens!\n",
    "</div>\n",
    "\n"
   ]
  },
  {
   "cell_type": "markdown",
   "metadata": {
    "id": "ZRFaOWzGuj8n"
   },
   "source": [
    "## Internet"
   ]
  },
  {
   "cell_type": "code",
   "execution_count": 20,
   "metadata": {
    "id": "ob3-qv4nuj8n"
   },
   "outputs": [
    {
     "name": "stdout",
     "output_type": "stream",
     "text": [
      "<class 'pandas.core.frame.DataFrame'>\n",
      "RangeIndex: 104825 entries, 0 to 104824\n",
      "Data columns (total 4 columns):\n",
      " #   Column        Non-Null Count   Dtype  \n",
      "---  ------        --------------   -----  \n",
      " 0   id            104825 non-null  object \n",
      " 1   user_id       104825 non-null  int64  \n",
      " 2   session_date  104825 non-null  object \n",
      " 3   mb_used       104825 non-null  float64\n",
      "dtypes: float64(1), int64(1), object(2)\n",
      "memory usage: 3.2+ MB\n"
     ]
    }
   ],
   "source": [
    "# Imprima as informações gerais/resumidas sobre o DataFrame da internet\n",
    "\n",
    "df_internet.info()"
   ]
  },
  {
   "cell_type": "code",
   "execution_count": 21,
   "metadata": {
    "id": "iIHK4fZsuj8n"
   },
   "outputs": [
    {
     "name": "stdout",
     "output_type": "stream",
     "text": [
      "         id  user_id session_date  mb_used\n",
      "0   1000_13     1000   2018-12-29    89.86\n",
      "1  1000_204     1000   2018-12-31     0.00\n",
      "2  1000_379     1000   2018-12-28   660.40\n",
      "3  1000_413     1000   2018-12-26   270.99\n",
      "4  1000_442     1000   2018-12-27   880.22\n"
     ]
    }
   ],
   "source": [
    "#  Imprima uma amostra de dados para o tráfego da internet\n",
    "\n",
    "print(df_internet.head())"
   ]
  },
  {
   "cell_type": "markdown",
   "metadata": {
    "id": "6wpo7ugquj8o"
   },
   "source": [
    "[Descreva o que você vê e observa nas informações gerais e na amostra de dados impressa para a parte dos dados acima. Existem problemas (tipos de dados inadequados, dados ausentes, etc.) que precisam de mais investigação e alterações? Como isso pode ser corrigido?]\n",
    "- não existe valores ausentes\n",
    "- verificar se existe valores duplicados\n",
    "- já olhando para as outras colunas, é possivel perceber que existe uma coluna de nome id que está em mais de uma coluna, porém os dados são diferentes\n",
    "- então, seria interessante mudar o nome da coluna, para não ficar confuso e evitar erros\n",
    "- mudar o tipo de dado da coluna session_date de string para datetime"
   ]
  },
  {
   "cell_type": "markdown",
   "metadata": {
    "id": "Tly90YrTuj8o"
   },
   "source": [
    "### Corrija os dados"
   ]
  },
  {
   "cell_type": "markdown",
   "metadata": {
    "id": "F_yvcX-9uj8o"
   },
   "source": [
    "[Corrija problemas óbvios com os dados conforme as observações iniciais.]"
   ]
  },
  {
   "cell_type": "code",
   "execution_count": 22,
   "metadata": {
    "id": "GCoX7kbmuj8o"
   },
   "outputs": [
    {
     "name": "stdout",
     "output_type": "stream",
     "text": [
      "Empty DataFrame\n",
      "Columns: [id, user_id, session_date, mb_used]\n",
      "Index: []\n"
     ]
    }
   ],
   "source": [
    "#verificar se tem dados duplicados na tabela internet\n",
    "\n",
    "df_internet_duplicated = df_internet[df_internet.duplicated()]\n",
    "print(df_internet_duplicated)"
   ]
  },
  {
   "cell_type": "markdown",
   "metadata": {},
   "source": [
    "- não existe valores ausentes"
   ]
  },
  {
   "cell_type": "markdown",
   "metadata": {
    "id": "DEDbrtFduj8o"
   },
   "source": [
    "### Enriqueça os dados"
   ]
  },
  {
   "cell_type": "markdown",
   "metadata": {
    "id": "ilg-XzXpuj8p"
   },
   "source": [
    "[Inclua fatores adicionais aos dados se você acredita que eles podem ser úteis.]"
   ]
  },
  {
   "cell_type": "code",
   "execution_count": 23,
   "metadata": {
    "id": "f1PoZ3Ukuj8p"
   },
   "outputs": [
    {
     "name": "stdout",
     "output_type": "stream",
     "text": [
      "  id_internet  user_id session_date  mb_used\n",
      "0     1000_13     1000   2018-12-29    89.86\n",
      "1    1000_204     1000   2018-12-31     0.00\n",
      "2    1000_379     1000   2018-12-28   660.40\n",
      "3    1000_413     1000   2018-12-26   270.99\n",
      "4    1000_442     1000   2018-12-27   880.22\n"
     ]
    }
   ],
   "source": [
    "#substituir o nome da coluna id\n",
    "\n",
    "df_internet = df_internet.rename(columns={'id' : 'id_internet'})\n",
    "\n",
    "print(df_internet.head())"
   ]
  },
  {
   "cell_type": "code",
   "execution_count": 24,
   "metadata": {},
   "outputs": [],
   "source": [
    "#mudar o tipo de dado da coluna\n",
    "df_internet['session_date'] = pd.to_datetime(df_internet['session_date'])"
   ]
  },
  {
   "cell_type": "markdown",
   "metadata": {},
   "source": [
    "<div class=\"alert alert-success\">\n",
    "<strong>Comentário do revisor v1</strong>\n",
    "\n",
    "Excelente trabalho checando a consistência dos dados.\n",
    "\n",
    "Sempre importante para garantir uma análise robusta!\n",
    "    \n",
    "Parabéns pela clareza em cada passo!\n",
    "</div>\n",
    "\n"
   ]
  },
  {
   "cell_type": "markdown",
   "metadata": {
    "id": "bnOX4ARJuj8p"
   },
   "source": [
    "## Estude as condições dos planos"
   ]
  },
  {
   "cell_type": "markdown",
   "metadata": {
    "id": "vMu9_L8quj8p"
   },
   "source": [
    "[É fundamental entender como os planos funcionam e como são as cobranças dos usuários com base na assinatura. Sugerimos imprimir as informações do plano para visualizar novamente as condições.]"
   ]
  },
  {
   "cell_type": "code",
   "execution_count": 25,
   "metadata": {
    "id": "vMXVndWEuj8p"
   },
   "outputs": [
    {
     "name": "stdout",
     "output_type": "stream",
     "text": [
      "   messages_included  mb_per_month_included  minutes_included  \\\n",
      "0                 50                  15360               500   \n",
      "1               1000                  30720              3000   \n",
      "\n",
      "   usd_monthly_pay  usd_per_gb  usd_per_message  usd_per_minute plan_name  \n",
      "0               20          10             0.03            0.03      surf  \n",
      "1               70           7             0.01            0.01  ultimate  \n"
     ]
    }
   ],
   "source": [
    "# Imprima as condições do plano e certifique-se de que elas fazem sentido para você\n",
    "print(df_plans)\n"
   ]
  },
  {
   "cell_type": "markdown",
   "metadata": {},
   "source": [
    "- um plano mais barato tem menos minutos mensais, menos mensagens e menos GB de dados\n",
    "- após exceder os limites do pacote, quanto mais barato, mais caro fica o minuto, mais caro fica a mensagem e mais caro fica por GB de dados"
   ]
  },
  {
   "cell_type": "markdown",
   "metadata": {
    "id": "1v1EshDmuj8q"
   },
   "source": [
    "## Agregue os dados por usuário\n",
    "\n",
    "[Agora, como os dados estão limpos, agregue os dados por usuário por período para ter apenas um registro por usuário por período. Isso vai facilitar muito a análise posterior.]"
   ]
  },
  {
   "cell_type": "code",
   "execution_count": 26,
   "metadata": {
    "id": "4hmb2pSPuj8q"
   },
   "outputs": [
    {
     "name": "stdout",
     "output_type": "stream",
     "text": [
      "      user_id    month  num_calls\n",
      "0        1000  2018-12         16\n",
      "1        1001  2018-08         27\n",
      "2        1001  2018-09         49\n",
      "3        1001  2018-10         65\n",
      "4        1001  2018-11         64\n",
      "...       ...      ...        ...\n",
      "2253     1498  2018-12         39\n",
      "2254     1499  2018-09         41\n",
      "2255     1499  2018-10         53\n",
      "2256     1499  2018-11         45\n",
      "2257     1499  2018-12         65\n",
      "\n",
      "[2258 rows x 3 columns]\n"
     ]
    }
   ],
   "source": [
    "# Calcule o número de chamadas feitas por cada usuário por mês. Salve o resultado.\n",
    "\n",
    "df_calls['month'] = df_calls['call_date'].dt.to_period('M')\n",
    "\n",
    "calls_month = df_calls.groupby(['user_id', 'month']).size().reset_index()\n",
    "\n",
    "calls_month = calls_month.rename(columns={0: 'num_calls'})\n",
    "\n",
    "print(calls_month)"
   ]
  },
  {
   "cell_type": "code",
   "execution_count": 27,
   "metadata": {
    "id": "yHgBWCJJuj8q"
   },
   "outputs": [
    {
     "name": "stdout",
     "output_type": "stream",
     "text": [
      "      user_id    month  duration\n",
      "0        1000  2018-12    116.83\n",
      "1        1001  2018-08    171.14\n",
      "2        1001  2018-09    297.69\n",
      "3        1001  2018-10    374.11\n",
      "4        1001  2018-11    404.59\n",
      "...       ...      ...       ...\n",
      "2253     1498  2018-12    324.77\n",
      "2254     1499  2018-09    330.37\n",
      "2255     1499  2018-10    363.28\n",
      "2256     1499  2018-11    288.56\n",
      "2257     1499  2018-12    468.10\n",
      "\n",
      "[2258 rows x 3 columns]\n",
      "total minute: 929150.26\n"
     ]
    }
   ],
   "source": [
    "# Calcule a quantidade de minutos gastos por cada usuário por mês. Salve o resultado.\n",
    "\n",
    "calls_minute = df_calls.groupby(['user_id', 'month'])['duration'].sum().reset_index()\n",
    "\n",
    "total_minute = calls_minute['duration'].sum()\n",
    "\n",
    "print(calls_minute)\n",
    "print('total minute:', total_minute)"
   ]
  },
  {
   "cell_type": "code",
   "execution_count": 28,
   "metadata": {
    "id": "MaM_cPxauj8q"
   },
   "outputs": [
    {
     "name": "stdout",
     "output_type": "stream",
     "text": [
      "      user_id    month  num_message\n",
      "0        1000  2018-12           11\n",
      "1        1001  2018-08           30\n",
      "2        1001  2018-09           44\n",
      "3        1001  2018-10           53\n",
      "4        1001  2018-11           36\n",
      "...       ...      ...          ...\n",
      "1801     1496  2018-09           21\n",
      "1802     1496  2018-10           18\n",
      "1803     1496  2018-11           13\n",
      "1804     1496  2018-12           11\n",
      "1805     1497  2018-12           50\n",
      "\n",
      "[1806 rows x 3 columns]\n",
      "total message: 76051\n"
     ]
    }
   ],
   "source": [
    "# Calcule o número de mensagens enviadas por cada usuário por mês. Salve o resultado.\n",
    "df_messages['month'] = df_messages['message_date'].dt.to_period('M')\n",
    "\n",
    "message_month = df_messages.groupby(['user_id', 'month']).size().reset_index()\n",
    "\n",
    "message_month = message_month.rename(columns={0: 'num_message'})\n",
    "\n",
    "total_message = message_month['num_message'].sum()\n",
    "\n",
    "print(message_month)\n",
    "\n",
    "print('total message:', total_message)"
   ]
  },
  {
   "cell_type": "code",
   "execution_count": 47,
   "metadata": {
    "id": "WsCEZJ_xuj8q",
    "scrolled": true
   },
   "outputs": [
    {
     "name": "stdout",
     "output_type": "stream",
     "text": [
      "      user_id    month  num_internet\n",
      "0        1000  2018-12       1901.47\n",
      "1        1001  2018-08       6919.15\n",
      "2        1001  2018-09      13314.82\n",
      "3        1001  2018-10      22330.49\n",
      "4        1001  2018-11      18504.30\n",
      "...       ...      ...           ...\n",
      "2272     1498  2018-12      23137.69\n",
      "2273     1499  2018-09      12984.76\n",
      "2274     1499  2018-10      19492.43\n",
      "2275     1499  2018-11      16813.83\n",
      "2276     1499  2018-12      22059.21\n",
      "\n",
      "[2277 rows x 3 columns]\n",
      "total internet: 38440763.70999999\n"
     ]
    }
   ],
   "source": [
    "# Calcule o volume de tráfego de internet usado por cada usuário por mês. Salve o resultado.\n",
    "df_internet['month'] = df_internet['session_date'].dt.to_period('M')\n",
    "\n",
    "internet_month = df_internet.groupby(['user_id', 'month'])['mb_used'].sum().reset_index()\n",
    "\n",
    "internet_month = internet_month.rename(columns={'mb_used': 'num_internet'})\n",
    "\n",
    "total_internet = internet_month['num_internet'].sum()\n",
    "\n",
    "print(internet_month)\n",
    "\n",
    "print('total internet:', total_internet)\n",
    "\n"
   ]
  },
  {
   "cell_type": "markdown",
   "metadata": {
    "id": "6nBsD4hduj8q"
   },
   "source": [
    "[Coloque os dados agregados em um DataFrame para que um registro nele represente o que um usuário unívoco consumiu em um determinado mês.]"
   ]
  },
  {
   "cell_type": "markdown",
   "metadata": {},
   "source": [
    "<div class=\"alert alert-success\">\n",
    "<strong>Comentário do revisor v1</strong>\n",
    "\n",
    "Correta a escolha de agregar por usuário + mês!\n",
    "</div>\n",
    "\n"
   ]
  },
  {
   "cell_type": "code",
   "execution_count": 48,
   "metadata": {
    "id": "BYDTkxOauj8r",
    "scrolled": true
   },
   "outputs": [
    {
     "name": "stdout",
     "output_type": "stream",
     "text": [
      "      user_id    month  num_calls  duration  num_message  num_internet  \\\n",
      "0        1000  2018-12       16.0    116.83         11.0       1901.47   \n",
      "1        1006  2018-11        2.0      9.32         15.0       2068.37   \n",
      "2        1006  2018-12        9.0     54.79        139.0      32118.82   \n",
      "3        1008  2018-10       71.0    450.21         21.0      17106.99   \n",
      "4        1008  2018-11       63.0    422.81         37.0      23676.72   \n",
      "...       ...      ...        ...       ...          ...           ...   \n",
      "2288     1194  2018-11        NaN       NaN         62.0      42866.10   \n",
      "2289     1194  2018-12        NaN       NaN         56.0      31088.49   \n",
      "2290     1349  2018-10        NaN       NaN         76.0      13093.55   \n",
      "2291     1349  2018-11        NaN       NaN         72.0      17128.26   \n",
      "2292     1349  2018-12        NaN       NaN         61.0      13039.91   \n",
      "\n",
      "          plan  messages_included  mb_per_month_included  minutes_included  \\\n",
      "0     ultimate               1000                  30720              3000   \n",
      "1     ultimate               1000                  30720              3000   \n",
      "2     ultimate               1000                  30720              3000   \n",
      "3     ultimate               1000                  30720              3000   \n",
      "4     ultimate               1000                  30720              3000   \n",
      "...        ...                ...                    ...               ...   \n",
      "2288      surf                 50                  15360               500   \n",
      "2289      surf                 50                  15360               500   \n",
      "2290      surf                 50                  15360               500   \n",
      "2291      surf                 50                  15360               500   \n",
      "2292      surf                 50                  15360               500   \n",
      "\n",
      "      usd_monthly_pay  usd_per_gb  usd_per_message  usd_per_minute  \n",
      "0                  70           7             0.01            0.01  \n",
      "1                  70           7             0.01            0.01  \n",
      "2                  70           7             0.01            0.01  \n",
      "3                  70           7             0.01            0.01  \n",
      "4                  70           7             0.01            0.01  \n",
      "...               ...         ...              ...             ...  \n",
      "2288               20          10             0.03            0.03  \n",
      "2289               20          10             0.03            0.03  \n",
      "2290               20          10             0.03            0.03  \n",
      "2291               20          10             0.03            0.03  \n",
      "2292               20          10             0.03            0.03  \n",
      "\n",
      "[2293 rows x 14 columns]\n"
     ]
    }
   ],
   "source": [
    "# Junte os dados de chamadas, minutos, mensagens e internet com base em user_id e month\n",
    "merged_data = calls_month.merge(calls_minute, on=['user_id', 'month'], how='outer')\n",
    "\n",
    "# Junte os dados de mensagens com base em 'user_id' e 'month'\n",
    "merged_data = merged_data.merge(message_month, on=['user_id', 'month'], how='outer')\n",
    "\n",
    "# Junte os dados de internet com base em 'user_id' e 'month'\n",
    "merged_data = merged_data.merge(internet_month, on=['user_id', 'month'], how='outer')\n",
    "\n",
    "merged_data = merged_data.merge(df_users[['user_id', 'plan']], on='user_id')\n",
    "\n",
    "merged_data = merged_data.merge(df_plans.rename(columns={'plan_name': 'plan'}), on='plan')\n",
    "\n",
    "print(merged_data)"
   ]
  },
  {
   "cell_type": "code",
   "execution_count": 31,
   "metadata": {
    "id": "SW-sgLaHuj8r"
   },
   "outputs": [],
   "source": [
    "# Adicione as informações sobre o plano\n",
    "\n",
    "\n"
   ]
  },
  {
   "cell_type": "markdown",
   "metadata": {
    "id": "mU8dKHTQuj8r"
   },
   "source": [
    "[Calcule a receita mensal para cada usuário: subtraia o limite gratuito do pacote do número total de chamadas, mensagens de texto e dados; multiplique o resultado pelo valor do plano de chamadas; adicione o preço mensal dependendo do plano. Importante: isso pode não ser tão trivial quanto apenas algumas linhas, dadas as condições do plano. Portanto, não há problema em gastar algum tempo nisso.]"
   ]
  },
  {
   "cell_type": "markdown",
   "metadata": {},
   "source": [
    "<div class=\"alert alert-danger\">\n",
    "<strong>Comentário do revisor v1</strong>\n",
    "\n",
    "Os dados devem ser unidos por meio de um outer join.\n",
    "    \n",
    "Pense que eventualmente um cliente pode não ter feito um dos tipos de operação no mês, mas ainda assim deve ter esse mês registrado com um 0 para aquele tipo de operação e o left join poderia comprometer esse registro.\n",
    "</div>\n",
    "\n"
   ]
  },
  {
   "cell_type": "markdown",
   "metadata": {},
   "source": [
    "<div class=\"alert alert-danger\">\n",
    "<strong>Comentário do revisor v2</strong>\n",
    "\n",
    "Esse ponto aqui que permanece pendente é talvez o mais importante do notebook todo, vale a pena abordá-lo com o tutor, ok?\n",
    "</div>\n"
   ]
  },
  {
   "cell_type": "markdown",
   "metadata": {},
   "source": [
    "<div class=\"alert alert-success\">\n",
    "<strong>Comentário do revisor v3</strong>\n",
    "\n",
    "Valeu pelo ajuste!\n",
    "</div>"
   ]
  },
  {
   "cell_type": "code",
   "execution_count": 52,
   "metadata": {
    "id": "JiPHXbQAuj8r",
    "scrolled": true
   },
   "outputs": [
    {
     "name": "stdout",
     "output_type": "stream",
     "text": [
      "      user_id    month  num_calls  duration  num_message  num_internet  \\\n",
      "0        1000  2018-12       16.0    116.83         11.0       1901.47   \n",
      "1        1006  2018-11        2.0      9.32         15.0       2068.37   \n",
      "2        1006  2018-12        9.0     54.79        139.0      32118.82   \n",
      "3        1008  2018-10       71.0    450.21         21.0      17106.99   \n",
      "4        1008  2018-11       63.0    422.81         37.0      23676.72   \n",
      "...       ...      ...        ...       ...          ...           ...   \n",
      "2288     1194  2018-11        NaN       NaN         62.0      42866.10   \n",
      "2289     1194  2018-12        NaN       NaN         56.0      31088.49   \n",
      "2290     1349  2018-10        NaN       NaN         76.0      13093.55   \n",
      "2291     1349  2018-11        NaN       NaN         72.0      17128.26   \n",
      "2292     1349  2018-12        NaN       NaN         61.0      13039.91   \n",
      "\n",
      "          plan  messages_included  mb_per_month_included  minutes_included  \\\n",
      "0     ultimate               1000                  30720              3000   \n",
      "1     ultimate               1000                  30720              3000   \n",
      "2     ultimate               1000                  30720              3000   \n",
      "3     ultimate               1000                  30720              3000   \n",
      "4     ultimate               1000                  30720              3000   \n",
      "...        ...                ...                    ...               ...   \n",
      "2288      surf                 50                  15360               500   \n",
      "2289      surf                 50                  15360               500   \n",
      "2290      surf                 50                  15360               500   \n",
      "2291      surf                 50                  15360               500   \n",
      "2292      surf                 50                  15360               500   \n",
      "\n",
      "      usd_monthly_pay  usd_per_gb  usd_per_message  usd_per_minute  receita  \n",
      "0                  70           7             0.01            0.01    70.00  \n",
      "1                  70           7             0.01            0.01    70.00  \n",
      "2                  70           7             0.01            0.01    84.00  \n",
      "3                  70           7             0.01            0.01    70.00  \n",
      "4                  70           7             0.01            0.01    70.00  \n",
      "...               ...         ...              ...             ...      ...  \n",
      "2288               20          10             0.03            0.03   290.36  \n",
      "2289               20          10             0.03            0.03   180.18  \n",
      "2290               20          10             0.03            0.03    20.78  \n",
      "2291               20          10             0.03            0.03    40.66  \n",
      "2292               20          10             0.03            0.03    20.33  \n",
      "\n",
      "[2293 rows x 15 columns]\n"
     ]
    }
   ],
   "source": [
    "# Calcule a receita mensal para cada usuário\n",
    "def receita_mensal(row):\n",
    "    minutes = row['minutes_included']\n",
    "    messages = row['messages_included']\n",
    "    internet = row['mb_per_month_included']\n",
    "    usd_month_minutes = row['usd_per_minute']\n",
    "    usd_month_messages = row['usd_per_message']\n",
    "    usd_month_internet = row['usd_per_gb']\n",
    "    \n",
    "    if row['duration'] > minutes:\n",
    "        total_minutes = row['duration'] - minutes\n",
    "    else:\n",
    "        total_minutes = 0\n",
    "            \n",
    "    if row['num_message'] > messages:\n",
    "        total_message = row['num_message'] - messages\n",
    "    else:\n",
    "        total_message = 0\n",
    "        \n",
    "    if row['num_internet'] > internet:\n",
    "        total_internet = row['num_internet'] - internet\n",
    "    else:\n",
    "        total_internet = 0\n",
    "        \n",
    "    receita_minute = total_minutes *  usd_month_minutes\n",
    "    receita_message = total_message * usd_month_messages\n",
    "    receita_internet = mt.ceil(total_internet / 1024) * usd_month_internet\n",
    "    \n",
    "    if row['plan'] == 'surf':\n",
    "        custo_fixo = 20\n",
    "    else:\n",
    "        custo_fixo = 70\n",
    "        \n",
    "    receita_mensal = receita_minute + receita_message + receita_internet + custo_fixo\n",
    "    return receita_mensal\n",
    "        \n",
    "\n",
    "merged_data['receita'] = merged_data.apply(receita_mensal, axis=1)\n",
    "\n",
    "print(merged_data)\n"
   ]
  },
  {
   "cell_type": "markdown",
   "metadata": {},
   "source": [
    "- esse item eu já fiz junto com o tutor\n",
    "- ele ainda está errado?\n",
    "- precisa de mais ajuste?"
   ]
  },
  {
   "cell_type": "markdown",
   "metadata": {},
   "source": [
    "<div class=\"alert alert-danger\">\n",
    "<strong>Comentário do revisor v1</strong>\n",
    "\n",
    "A sua função considerar o duration do df que contém todos os gastos do cliente e, sabendo o plano que ele possui, transformar essa duração em gasto por parte do cliente em $\n",
    "</div>\n",
    "\n"
   ]
  },
  {
   "cell_type": "markdown",
   "metadata": {},
   "source": [
    "<div class=\"alert alert-danger\">\n",
    "<strong>Comentário do revisor v2</strong>\n",
    "\n",
    "Esse ponto aqui que permanece pendente e é bem chatinho na verdade... Como vai falar com o tutor vale a pena gastar um tempo aqui! Tenho certeza que com uma explicação detalhada vai sair certinho!\n",
    "</div>\n"
   ]
  },
  {
   "cell_type": "markdown",
   "metadata": {
    "id": "0HFWXKTQuj8r"
   },
   "source": [
    "## Estude o comportamento do usuário"
   ]
  },
  {
   "cell_type": "markdown",
   "metadata": {
    "id": "i6gGFggkuj8s"
   },
   "source": [
    "[Calcule algumas estatísticas descritivas úteis para os dados agregados e unidos, que geralmente revelam uma imagem geral capturada pelos dados. Desenhe gráficos úteis para ajudar na compreensão. Já que a tarefa principal é comparar os planos e decidir qual é mais rentável, as estatísticas e os gráficos devem ser calculados por plano.]\n",
    "\n",
    "[Existem dicas relevantes nos comentários para chamadas, mas elas não são fornecidas para mensagens e internet, embora o princípio do estudo estatístico seja o mesmo para todas.]"
   ]
  },
  {
   "cell_type": "markdown",
   "metadata": {
    "id": "umaMfSLxuj8s"
   },
   "source": [
    "### Chamadas"
   ]
  },
  {
   "cell_type": "code",
   "execution_count": 33,
   "metadata": {
    "id": "0236-tJnuj8t",
    "scrolled": true
   },
   "outputs": [
    {
     "name": "stdout",
     "output_type": "stream",
     "text": [
      "plan      month  \n",
      "surf      2018-01    1266.000000\n",
      "          2018-02    1298.964481\n",
      "          2018-03    1262.875468\n",
      "          2018-04    1263.106383\n",
      "          2018-05    1247.573793\n",
      "          2018-06    1247.910383\n",
      "          2018-07    1244.090290\n",
      "          2018-08    1240.206434\n",
      "          2018-09    1242.784263\n",
      "          2018-10    1243.914913\n",
      "          2018-11    1244.997310\n",
      "          2018-12    1242.103920\n",
      "ultimate  2018-01    1149.919643\n",
      "          2018-02    1173.948529\n",
      "          2018-03    1189.436594\n",
      "          2018-04    1193.411824\n",
      "          2018-05    1205.012575\n",
      "          2018-06    1236.260604\n",
      "          2018-07    1246.292232\n",
      "          2018-08    1257.063306\n",
      "          2018-09    1272.446476\n",
      "          2018-10    1255.661441\n",
      "          2018-11    1265.072980\n",
      "          2018-12    1263.910204\n",
      "Name: user_id, dtype: float64\n"
     ]
    },
    {
     "data": {
      "text/plain": [
       "[]"
      ]
     },
     "execution_count": 33,
     "metadata": {},
     "output_type": "execute_result"
    },
    {
     "data": {
      "image/png": "[encoded data removed]",
      "text/plain": [
       "<Figure size 432x288 with 1 Axes>"
      ]
     },
     "metadata": {
      "needs_background": "light"
     },
     "output_type": "display_data"
    }
   ],
   "source": [
    "# Compare a duração média das chamadas de cada plano para cada mês distinto. Crie um gráfico de barras para visualizá-lo.\n",
    "df_mean = df_calls.merge(df_users, on='user_id')\n",
    "df_mean = df_mean.groupby(by=['plan', 'month'])['user_id'].mean()\n",
    "print(df_mean)\n",
    "df_mean.plot(kind='bar',);\n",
    "plt.plot()"
   ]
  },
  {
   "cell_type": "markdown",
   "metadata": {},
   "source": [
    "<div class=\"alert alert-danger\">\n",
    "<strong>Comentário do revisor v1</strong>\n",
    "\n",
    "A direção está certa, mas a análise deve ser feita mês a mês.\n",
    "</div>\n",
    "\n"
   ]
  },
  {
   "cell_type": "markdown",
   "metadata": {},
   "source": [
    "<div class=\"alert alert-danger\">\n",
    "<strong>Comentário do revisor v2</strong>\n",
    "\n",
    "Vale a pena passar com o tutor para:\n",
    "    \n",
    "- Incluir os diferentes planos lado a lado para facilitar a comparação\n",
    "- Aqui a duração média deve ser por usuário ao mês, não por ligação.\n",
    "</div>\n"
   ]
  },
  {
   "cell_type": "code",
   "execution_count": 34,
   "metadata": {
    "id": "9sCQ1lP8uj8u",
    "scrolled": true
   },
   "outputs": [
    {
     "data": {
      "image/png": "[encoded data removed]",
      "text/plain": [
       "<Figure size 432x288 with 1 Axes>"
      ]
     },
     "metadata": {
      "needs_background": "light"
     },
     "output_type": "display_data"
    }
   ],
   "source": [
    "# Compare o número de minutos de que os usuários de cada plano necessitam a cada mês. Construa um histograma.\n",
    "grouped_data = merged_data.groupby(['month', 'user_id', 'plan']).sum().reset_index()\n",
    "\n",
    "# Plotando histograma\n",
    "for plan in grouped_data['plan'].unique():\n",
    "    plan_data = grouped_data[grouped_data['plan'] == plan]\n",
    "    plt.hist(plan_data['duration'], bins=20, alpha=0.5, label=plan)\n",
    "\n",
    "\n",
    "plt.show()\n",
    "\n"
   ]
  },
  {
   "cell_type": "markdown",
   "metadata": {},
   "source": [
    "- não estou conseguindo preencher o gráfico"
   ]
  },
  {
   "cell_type": "markdown",
   "metadata": {},
   "source": [
    "<div class=\"alert alert-danger\">\n",
    "<strong>Comentário do revisor v1</strong>\n",
    "\n",
    "Aqui como foi pedido o histograma, devemos construir um para cada plano (ou um com as curvas sobrepostas para ambos os planos) a partir do df merged_data (ou calls_month), focando na coluna duration.\n",
    "    \n",
    "Não iremos ver as diferenças mês a mês, mas os dados já estão com a granularidade solicitada.\n",
    "</div>\n",
    "\n",
    "\n",
    "\n",
    "merged_data"
   ]
  },
  {
   "cell_type": "markdown",
   "metadata": {},
   "source": [
    "<div class=\"alert alert-danger\">\n",
    "<strong>Comentário do revisor v2</strong>\n",
    "\n",
    "A coluna que deve ser aplicada o .hist() é a coluna que possui odos os usuários e seus tempos gastos em ligações mensalmente (ou seja, devemos ter uma linha por cliente e por mês) ,você está passando acima o df contendo as características dos planos.\n",
    "</div>\n"
   ]
  },
  {
   "cell_type": "markdown",
   "metadata": {},
   "source": [
    "<div class=\"alert alert-success\">\n",
    "<strong>Comentário do revisor v3</strong>\n",
    "\n",
    "Valeu pelo ajuste!\n",
    "</div>"
   ]
  },
  {
   "cell_type": "markdown",
   "metadata": {
    "id": "_x1pRDFtuj8u"
   },
   "source": [
    "[Calcule a média e a variável da duração da chamada para raciocinar se os usuários de diferentes planos possuem comportamentos diferentes em suas chamadas.]"
   ]
  },
  {
   "cell_type": "code",
   "execution_count": 35,
   "metadata": {
    "id": "cIdodPExuj8u"
   },
   "outputs": [
    {
     "name": "stdout",
     "output_type": "stream",
     "text": [
      "month\n",
      "2018-01    28.666667\n",
      "2018-02    51.600000\n",
      "2018-03    46.285714\n",
      "2018-04    48.478873\n",
      "2018-05    57.298077\n",
      "2018-06    58.304965\n",
      "2018-07    62.039106\n",
      "2018-08    59.086957\n",
      "2018-09    59.649819\n",
      "2018-10    62.504451\n",
      "2018-11    61.168734\n",
      "2018-12    66.552174\n",
      "Freq: M, Name: num_calls, dtype: float64\n",
      "month\n",
      "2018-01     247.866667\n",
      "2018-02    1043.400000\n",
      "2018-03     903.798319\n",
      "2018-04     822.538833\n",
      "2018-05    1022.560773\n",
      "2018-06     773.742047\n",
      "2018-07    1205.195091\n",
      "2018-08    1021.110309\n",
      "2018-09     921.431277\n",
      "2018-10     968.828105\n",
      "2018-11     964.618224\n",
      "2018-12    1087.494004\n",
      "Freq: M, Name: num_calls, dtype: float64\n"
     ]
    }
   ],
   "source": [
    "# Calcule a média e a variação da duração mensal das chamadas\n",
    "\n",
    "media_mensal = calls_month.groupby('month').mean()\n",
    "\n",
    "\n",
    "variancia_mensal = calls_month.groupby('month').var()\n",
    "\n",
    "print(media_mensal['num_calls'])\n",
    "print(variancia_mensal['num_calls'])\n",
    "\n"
   ]
  },
  {
   "cell_type": "code",
   "execution_count": 36,
   "metadata": {
    "id": "DW7vTypxuj8u"
   },
   "outputs": [
    {
     "data": {
      "image/png": "[encoded data removed]",
      "text/plain": [
       "<Figure size 432x288 with 1 Axes>"
      ]
     },
     "metadata": {
      "needs_background": "light"
     },
     "output_type": "display_data"
    }
   ],
   "source": [
    "# Faça um diagrama de caixa para visualizar a distribuição da duração mensal das chamadas\n",
    "\n",
    "monthly_plan_totals = grouped_data.groupby(['month', 'plan']).sum().reset_index()\n",
    "\n",
    "data_dict = {}\n",
    "\n",
    "for plan in monthly_plan_totals['plan'].unique():\n",
    "    data_dict[plan] = monthly_plan_totals[monthly_plan_totals['plan'] == plan]['duration']\n",
    "\n",
    "\n",
    "plt.boxplot(data_dict.values(), labels=data_dict.keys())\n",
    "\n",
    "plt.title('Total de ligações por plano') \n",
    "\n",
    "plt.show()\n",
    "\n"
   ]
  },
  {
   "cell_type": "markdown",
   "metadata": {
    "id": "Uyt3rWn7uj8u"
   },
   "source": [
    "[Formule conclusões sobre como os usuários se comportam em termos de chamadas. O comportamento é diferente dependendo do plano?]\n",
    "- tanto a média como a variância possuem um variação pequena entre os meses\n",
    "- não consegui fazer um gráfico para cada mês\n"
   ]
  },
  {
   "cell_type": "markdown",
   "metadata": {},
   "source": [
    "<div class=\"alert alert-danger\">\n",
    "<strong>Comentário do revisor v1</strong>\n",
    "\n",
    "O solicitado foi avaliar a variabilidade mensal em ligações. Dessa forma utilize o df calls_month, que já possui a agregação mensal e estude média, desvio padrão e o boxplot.\n",
    "</div>\n",
    "\n"
   ]
  },
  {
   "cell_type": "markdown",
   "metadata": {},
   "source": [
    "<div class=\"alert alert-danger\">\n",
    "<strong>Comentário do revisor v2</strong>\n",
    "\n",
    "Improtante usar títilos nas visualizações e que elas contemplem amos os planos em barras (ou caixas no caso) diferentes.\n",
    "    \n",
    "Não é necessário fazer um gráfico por mês, mas mais uma vez vale utilizar o total de ligações por mês e por cliente. Dessa forma poderemos diferenciar o comportamento observado em cada um dos planos.\n",
    "</div>\n"
   ]
  },
  {
   "cell_type": "markdown",
   "metadata": {},
   "source": [
    "<div class=\"alert alert-success\">\n",
    "<strong>Comentário do revisor v3</strong>\n",
    "\n",
    "Valeu pelo ajuste!\n",
    "</div>"
   ]
  },
  {
   "cell_type": "markdown",
   "metadata": {
    "id": "2hWSPtrnuj8v"
   },
   "source": [
    "### Mensagens"
   ]
  },
  {
   "cell_type": "markdown",
   "metadata": {},
   "source": [
    "<div class=\"alert alert-danger\">\n",
    "<strong>Comentário do revisor v1</strong>\n",
    "\n",
    "As dicas da sessão de ligação se aplicam também para as sessões de mensagens e internet.\n",
    "</div>\n"
   ]
  },
  {
   "cell_type": "markdown",
   "metadata": {},
   "source": [
    "<div class=\"alert alert-danger\">\n",
    "<strong>Comentário do revisor v2</strong>\n",
    "\n",
    "As dicas da sessão de ligação continuam se aplicando também para as sessões de mensagens e internet.\n",
    "</div>"
   ]
  },
  {
   "cell_type": "code",
   "execution_count": 37,
   "metadata": {
    "id": "9kPlAhOJuj8v"
   },
   "outputs": [
    {
     "data": {
      "image/png": "[encoded data removed]",
      "text/plain": [
       "<Figure size 432x288 with 1 Axes>"
      ]
     },
     "metadata": {
      "needs_background": "light"
     },
     "output_type": "display_data"
    }
   ],
   "source": [
    "# Compare o número de mensagens que os usuários de cada plano tendem a enviar a cada mês\n",
    "\n",
    "media_messages = df_messages.merge(df_users, on='user_id')\n",
    "\n",
    "media_messages = media_messages.groupby(['plan', 'month'])['message_date'].count().reset_index()\n",
    "\n",
    "media_messages.plot(kind='bar')\n",
    "\n",
    "plt.show()\n",
    "\n"
   ]
  },
  {
   "cell_type": "code",
   "execution_count": 38,
   "metadata": {
    "id": "fIVdRuT6uj8v"
   },
   "outputs": [
    {
     "name": "stdout",
     "output_type": "stream",
     "text": [
      "month    plan    \n",
      "2018-01  surf           30\n",
      "         ultimate       66\n",
      "2018-02  surf          308\n",
      "         ultimate      296\n",
      "2018-03  surf          819\n",
      "         ultimate      517\n",
      "2018-04  surf         1661\n",
      "         ultimate      897\n",
      "2018-05  surf         2988\n",
      "         ultimate     1300\n",
      "2018-06  surf         4153\n",
      "         ultimate     1904\n",
      "2018-07  surf         5501\n",
      "         ultimate     2609\n",
      "2018-08  surf         7336\n",
      "         ultimate     3382\n",
      "2018-09  surf         8832\n",
      "         ultimate     3890\n",
      "2018-10  surf        11226\n",
      "         ultimate     4967\n",
      "2018-11  surf        12837\n",
      "         ultimate     5814\n",
      "2018-12  surf        15895\n",
      "         ultimate     7597\n",
      "Name: mb_used, dtype: int64\n"
     ]
    },
    {
     "data": {
      "image/png": "[encoded data removed]",
      "text/plain": [
       "<Figure size 432x288 with 1 Axes>"
      ]
     },
     "metadata": {
      "needs_background": "light"
     },
     "output_type": "display_data"
    }
   ],
   "source": [
    "# Compare a quantidade de tráfego de internet consumido pelos usuários por plano\n",
    "media_internet = df_internet.merge(df_users, on='user_id')\n",
    "media_internet = media_internet.groupby(['month', 'plan'])['mb_used'].count()\n",
    "print(media_internet)\n",
    "\n",
    "media_internet.plot(kind='bar')\n",
    "plt.show()\n",
    "\n",
    "\n",
    "\n"
   ]
  },
  {
   "cell_type": "markdown",
   "metadata": {
    "id": "v6QELMtcuj8v"
   },
   "source": [
    "[Formule conclusões sobre como os usuários se comportam em termos de mensagens. O comportamento é diferente dependendo do plano?]\n",
    "- não consegui fazer a soma por mês, sem ficar somando a cada mês"
   ]
  },
  {
   "cell_type": "markdown",
   "metadata": {},
   "source": [
    "<div class=\"alert alert-success\">\n",
    "<strong>Comentário do revisor v3</strong>\n",
    "\n",
    "Valeu pelo ajuste!\n",
    "</div>"
   ]
  },
  {
   "cell_type": "markdown",
   "metadata": {
    "id": "nHUCwAnauj8w"
   },
   "source": [
    "### Internet"
   ]
  },
  {
   "cell_type": "markdown",
   "metadata": {},
   "source": [
    "<div class=\"alert alert-danger\">\n",
    "<strong>Comentário do revisor v1</strong>\n",
    "\n",
    "As dicas da sessão de ligação se aplicam também para as sessões de mensagens e internet.\n",
    "</div>\n"
   ]
  },
  {
   "cell_type": "markdown",
   "metadata": {},
   "source": [
    "<div class=\"alert alert-danger\">\n",
    "<strong>Comentário do revisor v2</strong>\n",
    "\n",
    "As dicas da sessão de ligação continuam se aplicando também para as sessões de mensagens e internet.\n",
    "</div>"
   ]
  },
  {
   "cell_type": "code",
   "execution_count": 39,
   "metadata": {
    "id": "EEm27RaRuj8w",
    "scrolled": true
   },
   "outputs": [
    {
     "name": "stdout",
     "output_type": "stream",
     "text": [
      "month    plan    \n",
      "2018-01  surf           30\n",
      "         ultimate       66\n",
      "2018-02  surf          308\n",
      "         ultimate      296\n",
      "2018-03  surf          819\n",
      "         ultimate      517\n",
      "2018-04  surf         1661\n",
      "         ultimate      897\n",
      "2018-05  surf         2988\n",
      "         ultimate     1300\n",
      "2018-06  surf         4153\n",
      "         ultimate     1904\n",
      "2018-07  surf         5501\n",
      "         ultimate     2609\n",
      "2018-08  surf         7336\n",
      "         ultimate     3382\n",
      "2018-09  surf         8832\n",
      "         ultimate     3890\n",
      "2018-10  surf        11226\n",
      "         ultimate     4967\n",
      "2018-11  surf        12837\n",
      "         ultimate     5814\n",
      "2018-12  surf        15895\n",
      "         ultimate     7597\n",
      "Name: mb_used, dtype: int64\n"
     ]
    }
   ],
   "source": [
    "media_internet = df_internet.merge(df_users, on='user_id')\n",
    "media_internet = media_internet.groupby(['month', 'plan'])['mb_used'].count()\n",
    "print(media_internet)\n",
    "\n",
    "\n"
   ]
  },
  {
   "cell_type": "code",
   "execution_count": 40,
   "metadata": {
    "id": "Detb0wIZuj8w",
    "scrolled": true
   },
   "outputs": [
    {
     "data": {
      "image/png": "[encoded data removed]",
      "text/plain": [
       "<Figure size 432x288 with 1 Axes>"
      ]
     },
     "metadata": {
      "needs_background": "light"
     },
     "output_type": "display_data"
    }
   ],
   "source": [
    "media_internet.plot(kind='bar')\n",
    "plt.show()"
   ]
  },
  {
   "cell_type": "code",
   "execution_count": null,
   "metadata": {
    "id": "1zsw31_cuj8w"
   },
   "outputs": [],
   "source": []
  },
  {
   "cell_type": "markdown",
   "metadata": {
    "id": "GsHkFpGmuj8w"
   },
   "source": [
    "[Formule conclusões sobre como os usuários tendem a consumir o tráfego da internet. O comportamento é diferente dependendo do plano?]\n",
    "- naõ sei qual a diferença entre essa parte e a anterior"
   ]
  },
  {
   "cell_type": "markdown",
   "metadata": {
    "id": "g23qXaYNuj8x"
   },
   "source": [
    "## Receita"
   ]
  },
  {
   "cell_type": "markdown",
   "metadata": {
    "id": "qI9oKXFZuj8y"
   },
   "source": [
    "[Da mesma forma que você estudou o comportamento dos usuários, descreva estatisticamente as receitas dos planos.]"
   ]
  },
  {
   "cell_type": "markdown",
   "metadata": {},
   "source": [
    "<div class=\"alert alert-danger\">\n",
    "<strong>Comentário do revisor v1</strong>\n",
    "\n",
    "Precisamos acertar a sua função de cálculo de receita para posteriormente trabalhar com o resultado nessa sessão.\n",
    "</div>\n"
   ]
  },
  {
   "cell_type": "markdown",
   "metadata": {},
   "source": [
    "<div class=\"alert alert-danger\">\n",
    "<strong>Comentário do revisor v2</strong>\n",
    "\n",
    "O tutor vai conseguir te ajudar a validar os resultados dessa sessão após os ajustes.\n",
    "</div>"
   ]
  },
  {
   "cell_type": "code",
   "execution_count": 53,
   "metadata": {
    "id": "CGuBwYRyuj8y"
   },
   "outputs": [
    {
     "name": "stdout",
     "output_type": "stream",
     "text": [
      "plan      month  \n",
      "surf      2018-01    20.000000\n",
      "          2018-02    34.256733\n",
      "          2018-03    45.790261\n",
      "          2018-04    40.454700\n",
      "          2018-05    47.235155\n",
      "          2018-06    48.930735\n",
      "          2018-07    62.221942\n",
      "          2018-08    63.572562\n",
      "          2018-09    57.948540\n",
      "          2018-10    65.046710\n",
      "          2018-11    57.628813\n",
      "          2018-12    70.102687\n",
      "ultimate  2018-01    70.000000\n",
      "          2018-02    70.000000\n",
      "          2018-03    74.666667\n",
      "          2018-04    73.000000\n",
      "          2018-05    70.724138\n",
      "          2018-06    71.638298\n",
      "          2018-07    71.898305\n",
      "          2018-08    72.859155\n",
      "          2018-09    72.034884\n",
      "          2018-10    72.311321\n",
      "          2018-11    71.708661\n",
      "          2018-12    73.291391\n",
      "Name: receita, dtype: float64\n"
     ]
    },
    {
     "data": {
      "text/plain": [
       "[]"
      ]
     },
     "execution_count": 53,
     "metadata": {},
     "output_type": "execute_result"
    },
    {
     "data": {
      "image/png": "[encoded data removed]",
      "text/plain": [
       "<Figure size 432x288 with 1 Axes>"
      ]
     },
     "metadata": {
      "needs_background": "light"
     },
     "output_type": "display_data"
    }
   ],
   "source": [
    "\n",
    "usuario_por_plano = merged_data.groupby(['plan', 'month'])['receita'].mean()\n",
    "\n",
    "print(usuario_por_plano)\n",
    "usuario_por_plano.plot(kind='bar')\n",
    "plt.plot()\n",
    "\n"
   ]
  },
  {
   "cell_type": "markdown",
   "metadata": {
    "id": "qJSyfvUguj8y"
   },
   "source": [
    "<div class=\"alert alert-danger\">\n",
    "<strong>Comentário do revisor v3</strong>\n",
    "\n",
    "Devemos exibir aqui um comparativo da receita de cada um dos planos no decorrer dos meses. Sumarizações e gráficos são bem vindos.\n",
    "</div>"
   ]
  },
  {
   "cell_type": "markdown",
   "metadata": {},
   "source": [
    "- não sei por que a receita do ultimate está zerada"
   ]
  },
  {
   "cell_type": "markdown",
   "metadata": {},
   "source": [
    "<div class=\"alert alert-danger\">\n",
    "<strong>Comentário do revisor v4</strong>\n",
    "\n",
    "O plan deve estar presente dentro do groupby, mas não dentro da agregação.\n",
    "\n",
    "A melhor forma de sumarizar aqui seria a média, não a soma. Assim conseguiríamos comparar a evolução tanto intra como entre planos.\n",
    "</div>"
   ]
  },
  {
   "cell_type": "markdown",
   "metadata": {},
   "source": [
    "- eu acho que o problema está em outro código, pois no código que eu calculo a receita_mensal, a coluna receita na parte ultimate está zeerada"
   ]
  },
  {
   "cell_type": "markdown",
   "metadata": {
    "id": "6X34EwHpuj8z"
   },
   "source": [
    "[Formule conclusões sobre como a receita difere entre os planos.]\n",
    "- a difereneça entre os planos é bem grande\n"
   ]
  },
  {
   "cell_type": "markdown",
   "metadata": {},
   "source": [
    "<div class=\"alert alert-danger\">\n",
    "<strong>Comentário do revisor v5</strong>\n",
    "\n",
    "Realmente, o problema parece estar no cálculo da receita. Esse é o último ponto restante, vou pedir para um tutor abordá-lo contigo no detalhe ok?\n",
    "</div>"
   ]
  },
  {
   "cell_type": "markdown",
   "metadata": {
    "id": "xJ6Mu-KAuj8z"
   },
   "source": [
    "## Teste hipóteses estatísticas"
   ]
  },
  {
   "cell_type": "markdown",
   "metadata": {
    "id": "lop_0j4Duj8z"
   },
   "source": [
    "[Teste a hipótese de que as receitas médias dos usuários dos planos de chamadas Ultimate e Surf são diferentes.]"
   ]
  },
  {
   "cell_type": "markdown",
   "metadata": {
    "id": "-X2l1R8Luj80"
   },
   "source": [
    "[Formule as hipóteses nula e alternativa, escolha o teste estatístico, escolha o valor alfa.]"
   ]
  },
  {
   "cell_type": "code",
   "execution_count": 42,
   "metadata": {
    "id": "LyGrPhpUuj80"
   },
   "outputs": [
    {
     "name": "stdout",
     "output_type": "stream",
     "text": [
      "valor-p: 1.4897548596839156e-36\n",
      "Rejeitamos a hipótese nula\n"
     ]
    }
   ],
   "source": [
    "# Teste as hipóteses\n",
    "alpha = 0.05\n",
    "receita_surf = merged_data[merged_data['plan'] == 'surf']['receita']\n",
    "receita_ultimate = merged_data[merged_data['plan'] == 'ultimate']['receita']\n",
    "receita_mensal_esperada = merged_data.apply(receita_mensal, axis=1)\n",
    "\n",
    "# Realiza o teste t de uma amostra\n",
    "results = st.ttest_ind(receita_surf, receita_ultimate)\n",
    "\n",
    "print('valor-p:', results.pvalue)\n",
    "\n",
    "if results.pvalue < alpha:\n",
    "    print(\"Rejeitamos a hipótese nula\")\n",
    "else:\n",
    "    print(\"Não podemos rejeitar a hipótese nula\")\n"
   ]
  },
  {
   "cell_type": "markdown",
   "metadata": {},
   "source": [
    "<div class=\"alert alert-danger\">\n",
    "<strong>Comentário do revisor v3</strong>\n",
    "\n",
    "Você deve separar duas amostras, cada uma com os usuários de um plano e essas amostras serão utilizadas no seu teste t.\n",
    "</div>"
   ]
  },
  {
   "cell_type": "markdown",
   "metadata": {},
   "source": [
    "- qual receita média eu devo usar?\n",
    "- quais valores dentro do ttest devo usar?"
   ]
  },
  {
   "cell_type": "markdown",
   "metadata": {},
   "source": [
    "<div class=\"alert alert-success\">\n",
    "<strong>Comentário do revisor v4</strong>\n",
    "\n",
    "Está perfeito agora!\n",
    "</div>"
   ]
  },
  {
   "cell_type": "markdown",
   "metadata": {
    "id": "Cz6rwE56uj80"
   },
   "source": [
    "[Teste a hipótese de que a receita média dos usuários da área de NY-NJ difere dos usuários das demais regiões.]"
   ]
  },
  {
   "cell_type": "markdown",
   "metadata": {
    "id": "kMHim5__uj80"
   },
   "source": [
    "[Formule as hipóteses nula e alternativa, escolha o teste estatístico, escolha o valor alfa.]"
   ]
  },
  {
   "cell_type": "code",
   "execution_count": 43,
   "metadata": {
    "id": "98t8iiJyuj80",
    "scrolled": true
   },
   "outputs": [
    {
     "name": "stdout",
     "output_type": "stream",
     "text": [
      "Valor-p: 0.8076549151500662\n",
      "Não podemos rejeitar a hipótese nula: Não há evidências suficientes para concluir que a receita média dos usuários da área de NY-NJ difere dos usuários das demais regiões.\n"
     ]
    }
   ],
   "source": [
    "# Teste as hipóteses\n",
    "\n",
    "merged_data = merged_data.merge(df_users, on='user_id')\n",
    "grupo_ny_nj = merged_data[merged_data['city'] == 'New York-Newark-Jersey City, NY-NJ-PA MSA']['receita']\n",
    "grupo_outras_regioes = merged_data[merged_data['city'] != 'New York-Newark-Jersey City, NY-NJ-PA MSA']['receita']\n",
    "\n",
    "results = st.ttest_ind(grupo_ny_nj, grupo_outras_regioes)\n",
    "\n",
    "print('Valor-p:', results.pvalue)\n",
    "\n",
    "alfa = 0.05\n",
    "if results.pvalue < alfa:\n",
    "    print(\"Rejeitamos a hipótese nula: A receita média dos usuários da área de NY-NJ difere dos usuários das demais regiões.\")\n",
    "else:\n",
    "    print(\"Não podemos rejeitar a hipótese nula: Não há evidências suficientes para concluir que a receita média dos usuários da área de NY-NJ difere dos usuários das demais regiões.\")\n"
   ]
  },
  {
   "cell_type": "markdown",
   "metadata": {},
   "source": [
    "<div class=\"alert alert-danger\">\n",
    "<strong>Comentário do revisor v1</strong>\n",
    "\n",
    "Precisamos acertar a sua função de cálculo de receita para posteriormente trabalhar com o resultado nessa sessão.\n",
    "</div>\n"
   ]
  },
  {
   "cell_type": "markdown",
   "metadata": {},
   "source": [
    "<div class=\"alert alert-danger\">\n",
    "<strong>Comentário do revisor v2</strong>\n",
    "\n",
    "Quando arrumarmos a função da receita com a ajuda do tutor vai ficar tudo certo.\n",
    "    \n",
    "O teste de hipóteses está com a direção certa. Assim que ajustarmos tudo será possível avaliarmos o resultado.\n",
    "</div>\n"
   ]
  },
  {
   "cell_type": "markdown",
   "metadata": {},
   "source": [
    "<div class=\"alert alert-danger\">\n",
    "<strong>Comentário do revisor v3</strong>\n",
    "\n",
    "Está tudo na direção certa nesse teste. No entanto podem haver NaNs na sua amostra que fazem com que o p-valor retornado seja nulo, e isso não pode acontecer.\n",
    "</div>"
   ]
  },
  {
   "cell_type": "markdown",
   "metadata": {},
   "source": [
    "- eu não sei onde estão os valores NaNs\n",
    "- eu tentei usar os códigos que eu conheço para preencher os valores ausentes onde eu acho que eles estão, mas sempre da errro\n",
    "- estou precisando de uma orientação aqui"
   ]
  },
  {
   "cell_type": "markdown",
   "metadata": {},
   "source": [
    "<div class=\"alert alert-danger\">\n",
    "<strong>Comentário do revisor v4</strong>\n",
    "\n",
    "A razão do erro está aqui:\n",
    "    \n",
    "    grupo_ny_nj = merged_data[merged_data['city'] == 'NY-NJ']['receita']\n",
    "    grupo_outras_regioes = merged_data[merged_data['city'] != 'NY-NJ']['receita']\n",
    "    \n",
    "Se consultar o conteúdo do primeiro, vai ver que stá vazio, pois nenhuma linha é exatamente igual a NY-NJ.\n",
    "    \n",
    "Para preencher esse primeiro df você deve pegar todas as linhas *que contenham* \"NY-NJ\"\n",
    "    \n",
    "    \n",
    "</div>"
   ]
  },
  {
   "cell_type": "code",
   "execution_count": null,
   "metadata": {},
   "outputs": [],
   "source": []
  },
  {
   "cell_type": "markdown",
   "metadata": {},
   "source": [
    "<div class=\"alert alert-success\">\n",
    "<strong>Comentário do revisor v5</strong>\n",
    "\n",
    "tudo certinho com o teste agora!\n",
    "</div>\n",
    "\n"
   ]
  },
  {
   "cell_type": "markdown",
   "metadata": {
    "id": "M8WycwWFuj81"
   },
   "source": [
    "## Conclusão geral\n",
    "\n",
    "[Liste suas conclusões importantes nessa seção final, certifique-se de que elas cobrem todas as decisões (suposições) importantes que você tomou e que levaram à maneira como você processou e analisou os dados.]\n",
    "- tive algumas dúvidas durante o projeto\n",
    "- não consegui entender alguns erros\n",
    "- na parte final, não sei direito que valores usar dentro do código"
   ]
  },
  {
   "cell_type": "markdown",
   "metadata": {},
   "source": [
    "<div class=\"alert alert-danger\">\n",
    "<strong>Comentário do revisor v1</strong>\n",
    "\n",
    "Monica, tudo certo, vou pedir para um tutor entrar em contato contigo para te ajudar com esses erros mais chatinhos.\n",
    "    \n",
    "Estamos no caminho certo com essa versão, mas retocar os pontos indicados acima nos fará chegar em um resultado ainda mais incrível.\n",
    "    \n",
    "Conte comigo para ajudá-lo (a) em qualquer questão que possa vir a ter! Lembre-se de usar as caixas azuis para se comunicar comigo.\n",
    "    \n",
    "Até breve.\n",
    "</div>\n"
   ]
  },
  {
   "cell_type": "markdown",
   "metadata": {},
   "source": [
    "- ainda tenho algumas dúvidas dentro do projeto\n",
    "- vou enviar para ver se eu consegui acertas algumas coisas eu musdei\n",
    "- semana que vem vou entrar em contato com o meu tutor e marcar uma reunião para falar mais sobre essas dúvidas\n",
    "- mas vou ficar esperando para saber exatamente onde eu tenho dúvidas e onde preciso mudar"
   ]
  },
  {
   "cell_type": "markdown",
   "metadata": {},
   "source": [
    "<div class=\"alert alert-danger\">\n",
    "<strong>Comentário do revisor v2</strong>\n",
    "\n",
    "Monica, valeu pelos ajustes. Avançamos por aqui mas temos bastante coisa para acertar para ficarmos com um trabalho 100%.\n",
    "    \n",
    "O tutor vai conseeguir te dar um suporte muito bom e o resultado ficará incrível. Não desanime! Marquei com v2 instruções mais direcionadas para você abordar com o tutor.\n",
    "    \n",
    "Vai dar tudo certo, conte comigo e até breve.\n",
    "</div>\n"
   ]
  },
  {
   "cell_type": "markdown",
   "metadata": {},
   "source": [
    "<div class=\"alert alert-danger\">\n",
    "<strong>Comentário do revisor v3</strong>\n",
    "\n",
    "Avançamos bastante com os ajustes, mas ainda temos alguns pontos pendentes. Procure por 'v3' para encontrá-los com mais facilidade.\n",
    "\n",
    "Estamos quase lá! Vamos juntos até o fim.\n",
    "</div>\n",
    "\n"
   ]
  },
  {
   "cell_type": "markdown",
   "metadata": {},
   "source": [
    "- eu ainda tenho algumas dúvidas em alguns pontos \n",
    "- eu não sei se os itens que naço tem v3, estã correto ou ainda precisa de alteração\n"
   ]
  },
  {
   "cell_type": "markdown",
   "metadata": {},
   "source": [
    "<div class=\"alert alert-danger\">\n",
    "<strong>Comentário do revisor v4</strong>\n",
    "\n",
    "Avançamos bastante com os ajustes, mas ainda temos alguns pontos pendentes. Procure por 'v4' para encontrá-los com mais facilidade.\n",
    "\n",
    "Estamos quase lá! Vamos juntos até o fim.\n",
    "</div>\n",
    "\n"
   ]
  },
  {
   "cell_type": "markdown",
   "metadata": {},
   "source": [
    "- ainda não sei como preencher a parte da receita do ultimate\n",
    "- como conclusão do projeto, é possivel perceber que no primeiro teste de hipotese rejeitamos a amostra e na segunda não podemos rejeitar a a"
   ]
  },
  {
   "cell_type": "markdown",
   "metadata": {},
   "source": [
    "<div class=\"alert alert-danger\">\n",
    "<strong>Comentário do revisor v5</strong>\n",
    "\n",
    "O único ponto pendente é o do cálculo da receita. Creio que o tutor poderá entrer no detalhe contigo e ajudá-la com essa parte. Pode por favor abordar esse ponto com ele quando contactada?\n",
    "    \n",
    "Até breve!\n",
    "</div>"
   ]
  },
  {
   "cell_type": "markdown",
   "metadata": {},
   "source": [
    "- pelo projeto, é possivel perceber que quem utiliza o plano ultimate, dificilmente gasta mais do que está incluso no plano\n",
    "- porém, a maioria dos usuários do plano surf gasta mais que o incluso no plano, mas não chega a gastar mais que 70 que é o valor fixo do plano ultimate\n",
    "- com isso, é possivel concluir que a pessoa só deve mudar de plano surf para ultimate se o total gasto ultrapassar o valor fixo do plano ultimate\n",
    "- pelos testes de hipotese, é possivel perceber que não há evidências suficientes para concluir que existe diferença entre as regiões\n",
    "- mas que possivelmente existe entre os planos\n",
    "- isso é possivel de se concluir, pois no primeiro teste rejeitamos a amostra e no segundo não é possivel rejeitar"
   ]
  },
  {
   "cell_type": "code",
   "execution_count": null,
   "metadata": {},
   "outputs": [],
   "source": []
  }
 ],
 "metadata": {
  "ExecuteTimeLog": [
   {
    "duration": 828,
    "start_time": "2021-11-16T09:21:11.304Z"
   },
   {
    "duration": 893,
    "start_time": "2021-11-16T09:21:17.728Z"
   },
   {
    "duration": 1150,
    "start_time": "2021-11-16T09:21:29.568Z"
   },
   {
    "duration": 3,
    "start_time": "2021-11-16T09:24:14.495Z"
   },
   {
    "duration": 120,
    "start_time": "2021-11-16T09:24:46.630Z"
   },
   {
    "duration": 3,
    "start_time": "2021-11-16T09:28:27.882Z"
   },
   {
    "duration": 4,
    "start_time": "2021-11-16T09:29:54.281Z"
   },
   {
    "duration": 3,
    "start_time": "2021-11-16T09:30:45.936Z"
   },
   {
    "duration": 4,
    "start_time": "2021-11-16T09:31:06.300Z"
   },
   {
    "duration": 113,
    "start_time": "2021-11-16T09:31:37.208Z"
   },
   {
    "duration": 143,
    "start_time": "2021-11-16T09:31:48.656Z"
   },
   {
    "duration": 98,
    "start_time": "2021-11-16T09:31:55.678Z"
   },
   {
    "duration": 3,
    "start_time": "2021-11-16T09:32:08.535Z"
   },
   {
    "duration": 111,
    "start_time": "2021-11-16T09:32:10.120Z"
   },
   {
    "duration": 3,
    "start_time": "2021-11-16T09:32:15.732Z"
   },
   {
    "duration": 4,
    "start_time": "2021-11-16T09:32:29.423Z"
   },
   {
    "duration": 3,
    "start_time": "2021-11-16T10:03:03.074Z"
   },
   {
    "duration": 3,
    "start_time": "2021-11-16T10:10:01.288Z"
   },
   {
    "duration": 3,
    "start_time": "2021-11-16T10:10:46.923Z"
   },
   {
    "duration": 121,
    "start_time": "2021-11-16T10:37:46.494Z"
   },
   {
    "duration": 125,
    "start_time": "2021-11-16T10:38:20.632Z"
   },
   {
    "duration": 112,
    "start_time": "2021-11-16T10:46:53.001Z"
   },
   {
    "duration": 110,
    "start_time": "2021-11-16T10:48:25.775Z"
   },
   {
    "duration": 3,
    "start_time": "2021-11-16T10:50:18.720Z"
   },
   {
    "duration": 4,
    "start_time": "2021-11-16T10:50:37.649Z"
   },
   {
    "duration": 2,
    "start_time": "2021-11-16T10:50:51.884Z"
   },
   {
    "duration": 3,
    "start_time": "2021-11-16T10:51:56.237Z"
   },
   {
    "duration": 101,
    "start_time": "2021-11-16T10:53:13.791Z"
   },
   {
    "duration": 3,
    "start_time": "2021-11-16T10:55:59.186Z"
   },
   {
    "duration": 3,
    "start_time": "2021-11-16T10:56:10.751Z"
   },
   {
    "duration": 3,
    "start_time": "2021-11-16T10:56:49.038Z"
   },
   {
    "duration": 3,
    "start_time": "2021-11-16T10:56:49.174Z"
   },
   {
    "duration": 4,
    "start_time": "2021-11-16T10:56:49.414Z"
   },
   {
    "duration": 3,
    "start_time": "2021-11-16T10:56:49.680Z"
   },
   {
    "duration": 3,
    "start_time": "2021-11-16T10:56:50.370Z"
   },
   {
    "duration": 114,
    "start_time": "2021-11-16T10:59:34.518Z"
   },
   {
    "duration": 3,
    "start_time": "2021-11-16T11:01:41.201Z"
   },
   {
    "duration": 116,
    "start_time": "2021-11-16T11:01:48.754Z"
   },
   {
    "duration": 3,
    "start_time": "2021-11-16T11:02:16.685Z"
   },
   {
    "duration": 3,
    "start_time": "2021-11-16T11:02:19.479Z"
   },
   {
    "duration": 3,
    "start_time": "2021-11-16T11:02:47.067Z"
   },
   {
    "duration": 3,
    "start_time": "2021-11-16T11:02:49.353Z"
   },
   {
    "duration": 3,
    "start_time": "2021-11-16T11:03:07.835Z"
   },
   {
    "duration": 3,
    "start_time": "2021-11-16T11:03:07.953Z"
   },
   {
    "duration": 112,
    "start_time": "2021-11-16T11:07:52.072Z"
   },
   {
    "duration": 187,
    "start_time": "2021-11-16T11:09:23.468Z"
   },
   {
    "duration": 4,
    "start_time": "2021-11-16T11:10:01.455Z"
   },
   {
    "duration": 3,
    "start_time": "2021-11-16T11:10:05.069Z"
   },
   {
    "duration": 4,
    "start_time": "2021-11-16T11:10:13.376Z"
   },
   {
    "duration": 3,
    "start_time": "2021-11-16T11:10:14.434Z"
   },
   {
    "duration": 3,
    "start_time": "2021-11-16T11:10:22.853Z"
   },
   {
    "duration": 4,
    "start_time": "2021-11-16T11:27:29.279Z"
   },
   {
    "duration": 4,
    "start_time": "2021-11-16T11:29:08.919Z"
   },
   {
    "duration": 118,
    "start_time": "2021-11-16T11:29:46.703Z"
   },
   {
    "duration": 437,
    "start_time": "2021-11-16T11:36:02.181Z"
   },
   {
    "duration": 157,
    "start_time": "2021-11-16T11:36:14.388Z"
   },
   {
    "duration": 207,
    "start_time": "2021-11-16T11:47:15.898Z"
   },
   {
    "duration": 3,
    "start_time": "2021-11-16T11:53:52.092Z"
   },
   {
    "duration": 3,
    "start_time": "2021-11-16T11:53:52.236Z"
   },
   {
    "duration": 3,
    "start_time": "2021-11-16T11:59:12.005Z"
   },
   {
    "duration": 112,
    "start_time": "2021-11-16T12:00:33.446Z"
   },
   {
    "duration": 3,
    "start_time": "2021-11-16T12:02:14.453Z"
   },
   {
    "duration": 3,
    "start_time": "2021-11-16T12:02:39.512Z"
   },
   {
    "duration": 106,
    "start_time": "2021-11-16T12:03:03.460Z"
   },
   {
    "duration": 3,
    "start_time": "2021-11-17T20:37:21.139Z"
   },
   {
    "duration": 3,
    "start_time": "2021-11-17T20:37:22.229Z"
   },
   {
    "duration": 3,
    "start_time": "2021-11-17T20:38:38.806Z"
   },
   {
    "duration": 3,
    "start_time": "2021-11-17T20:38:41.958Z"
   },
   {
    "duration": 3,
    "start_time": "2021-11-17T20:43:46.551Z"
   },
   {
    "duration": 4,
    "start_time": "2021-11-17T20:58:21.835Z"
   },
   {
    "duration": 3,
    "start_time": "2021-11-17T20:59:21.872Z"
   },
   {
    "duration": 4,
    "start_time": "2021-11-17T20:59:45.352Z"
   },
   {
    "duration": 4,
    "start_time": "2021-11-17T20:59:49.646Z"
   },
   {
    "duration": 159,
    "start_time": "2021-11-17T21:02:26.949Z"
   },
   {
    "duration": 3,
    "start_time": "2021-11-17T21:03:53.461Z"
   },
   {
    "duration": 3,
    "start_time": "2021-11-17T21:03:53.694Z"
   },
   {
    "duration": 3,
    "start_time": "2021-11-17T21:05:28.145Z"
   },
   {
    "duration": 116,
    "start_time": "2021-11-17T21:05:57.787Z"
   },
   {
    "duration": 3,
    "start_time": "2021-11-17T21:06:37.993Z"
   },
   {
    "duration": 3,
    "start_time": "2021-11-17T21:06:38.261Z"
   },
   {
    "duration": 3,
    "start_time": "2021-11-17T21:11:54.358Z"
   },
   {
    "duration": 3,
    "start_time": "2021-11-17T21:12:43.846Z"
   },
   {
    "duration": 4,
    "start_time": "2021-11-17T21:13:08.773Z"
   },
   {
    "duration": 3,
    "start_time": "2021-11-17T21:14:44.441Z"
   },
   {
    "duration": 3,
    "start_time": "2021-11-17T21:15:42.059Z"
   },
   {
    "duration": 4,
    "start_time": "2021-11-17T21:15:51.995Z"
   },
   {
    "duration": 3,
    "start_time": "2021-11-17T21:15:53.923Z"
   },
   {
    "duration": 3,
    "start_time": "2021-11-17T21:15:55.282Z"
   },
   {
    "duration": 3,
    "start_time": "2021-11-17T21:16:28.492Z"
   },
   {
    "duration": 3,
    "start_time": "2021-11-17T21:16:32.603Z"
   },
   {
    "duration": 3,
    "start_time": "2021-11-17T21:17:06.941Z"
   },
   {
    "duration": 98,
    "start_time": "2021-11-17T21:18:05.733Z"
   },
   {
    "duration": 4,
    "start_time": "2021-11-17T21:21:35.255Z"
   },
   {
    "duration": 3,
    "start_time": "2021-11-17T21:21:37.804Z"
   },
   {
    "duration": 4,
    "start_time": "2021-11-17T21:23:06.071Z"
   },
   {
    "duration": 3,
    "start_time": "2021-11-17T21:23:24.799Z"
   },
   {
    "duration": 3,
    "start_time": "2021-11-17T21:23:32.591Z"
   },
   {
    "duration": 98,
    "start_time": "2021-11-17T21:28:31.559Z"
   },
   {
    "duration": 3,
    "start_time": "2021-11-17T21:28:45.448Z"
   },
   {
    "duration": 3,
    "start_time": "2021-11-17T21:29:17.303Z"
   },
   {
    "duration": 3,
    "start_time": "2021-11-17T21:29:29.617Z"
   },
   {
    "duration": 3,
    "start_time": "2021-11-17T21:29:32.681Z"
   },
   {
    "duration": 3,
    "start_time": "2021-11-17T21:36:11.474Z"
   },
   {
    "duration": 3,
    "start_time": "2021-11-17T21:36:14.791Z"
   },
   {
    "duration": 3,
    "start_time": "2021-11-17T21:36:53.943Z"
   },
   {
    "duration": 3,
    "start_time": "2021-11-17T21:36:56.165Z"
   },
   {
    "duration": 4,
    "start_time": "2021-11-17T21:37:16.590Z"
   },
   {
    "duration": 3,
    "start_time": "2021-11-17T21:37:22.702Z"
   },
   {
    "duration": 4,
    "start_time": "2021-11-17T21:38:03.479Z"
   },
   {
    "duration": 3,
    "start_time": "2021-11-17T21:38:08.601Z"
   },
   {
    "duration": 3,
    "start_time": "2021-11-17T21:38:12.928Z"
   },
   {
    "duration": 3,
    "start_time": "2021-11-17T21:38:48.896Z"
   },
   {
    "duration": 2,
    "start_time": "2021-11-17T21:38:49.171Z"
   },
   {
    "duration": 4,
    "start_time": "2021-11-17T21:39:57.889Z"
   },
   {
    "duration": 3,
    "start_time": "2021-11-17T21:39:58.057Z"
   },
   {
    "duration": 3,
    "start_time": "2021-11-17T21:41:20.108Z"
   },
   {
    "duration": 3,
    "start_time": "2021-11-17T21:41:20.629Z"
   },
   {
    "duration": 3,
    "start_time": "2021-11-17T21:42:49.136Z"
   },
   {
    "duration": 3,
    "start_time": "2021-11-17T21:43:15.137Z"
   },
   {
    "duration": 4,
    "start_time": "2021-11-17T21:43:16.766Z"
   },
   {
    "duration": 4,
    "start_time": "2021-11-17T21:43:31.711Z"
   },
   {
    "duration": 3,
    "start_time": "2021-11-17T21:43:36.312Z"
   },
   {
    "duration": 4,
    "start_time": "2021-11-17T21:45:08.825Z"
   },
   {
    "duration": 4,
    "start_time": "2021-11-17T21:45:10.119Z"
   },
   {
    "duration": 4,
    "start_time": "2021-11-17T21:45:13.748Z"
   },
   {
    "duration": 3,
    "start_time": "2021-11-17T21:45:22.219Z"
   },
   {
    "duration": 3,
    "start_time": "2021-11-17T21:45:33.412Z"
   },
   {
    "duration": 2,
    "start_time": "2021-11-17T21:46:01.885Z"
   },
   {
    "duration": 3,
    "start_time": "2021-11-17T21:46:03.628Z"
   },
   {
    "duration": 107,
    "start_time": "2021-11-17T21:47:32.512Z"
   },
   {
    "duration": 103,
    "start_time": "2021-11-17T21:50:36.243Z"
   },
   {
    "duration": 3,
    "start_time": "2021-11-18T06:28:31.440Z"
   },
   {
    "duration": 3,
    "start_time": "2021-11-18T06:29:00.168Z"
   },
   {
    "duration": 3,
    "start_time": "2021-11-18T06:31:27.008Z"
   },
   {
    "duration": 2,
    "start_time": "2021-11-18T06:35:34.288Z"
   },
   {
    "duration": 2,
    "start_time": "2021-11-18T06:38:04.527Z"
   }
  ],
  "colab": {
   "provenance": []
  },
  "kernelspec": {
   "display_name": "Python 3 (ipykernel)",
   "language": "python",
   "name": "python3"
  },
  "language_info": {
   "codemirror_mode": {
    "name": "ipython",
    "version": 3
   },
   "file_extension": ".py",
   "mimetype": "text/x-python",
   "name": "python",
   "nbconvert_exporter": "python",
   "pygments_lexer": "ipython3",
   "version": "3.9.5"
  },
  "toc": {
   "base_numbering": 1,
   "nav_menu": {},
   "number_sections": true,
   "sideBar": true,
   "skip_h1_title": false,
   "title_cell": "Table of Contents",
   "title_sidebar": "Contents",
   "toc_cell": false,
   "toc_position": {},
   "toc_section_display": true,
   "toc_window_display": true
  }
 },
 "nbformat": 4,
 "nbformat_minor": 1
}
